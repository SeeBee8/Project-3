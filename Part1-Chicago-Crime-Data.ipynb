{
 "cells": [
  {
   "cell_type": "markdown",
   "id": "67a0536b-f826-4a5a-a1ec-0b3a411fdd2d",
   "metadata": {},
   "source": [
    "# Chicago Crime Data Analysis \n",
    "####  Part 1\n",
    "\n",
    "*Christina Brockway*"
   ]
  },
  {
   "cell_type": "code",
   "execution_count": 1,
   "id": "6146ade6-b3b6-4e7e-97cc-d137a500f2c9",
   "metadata": {},
   "outputs": [],
   "source": [
    "#!pip install holidays"
   ]
  },
  {
   "cell_type": "markdown",
   "id": "218d15af-3ac6-4594-8dc4-f938f2323f22",
   "metadata": {},
   "source": [
    "use a prepared zip file with the Chicago Crime Data:\n",
    "https://drive.google.com/file/d/1avxUlCAros-R9GF6SKXqM_GopzO7VwA5/view?usp=drive_link\n",
    "\n",
    "**Original Source is the Chicago Data Portal: Crimes 2001 to Present**"
   ]
  },
  {
   "cell_type": "markdown",
   "id": "dfec9b45-19f9-4d7b-814d-3e0e67f1876a",
   "metadata": {},
   "source": [
    "**Data Description**\n",
    "https://data.cityofchicago.org/Public-Safety/Crimes-2001-to-Present/ijzp-q8t2/data\n",
    "\n",
    "-  includes type of crime, exact data/time, lat/long, District/ward, was there an arrest,...."
   ]
  },
  {
   "cell_type": "markdown",
   "id": "88b93424-c8a9-4258-8c71-2f7aed10146b",
   "metadata": {},
   "source": [
    "### Data Dictionary\n",
    "\n",
    "Taken from: data.cityofchicago.org/Public-Safety/Crimes-2001-to-Present/"
   ]
  },
  {
   "cell_type": "markdown",
   "id": "6e645aea-521f-4c89-9cf4-9f65e1a734eb",
   "metadata": {},
   "source": [
    "<style type=\"text/css\">\r\n",
    ".tg  {border-collapse:collapse;border-spacing:0;}\r\n",
    ".tg td{border-color:black;border-style:solid;border-width:1px;font-family:Arial, sans-serif;font-size:14px;\r\n",
    "  overflow:hidden;padding:10px 5px;word-break:normal;}\r\n",
    ".tg th{border-color:black;border-style:solid;border-width:1px;font-family:Arial, sans-serif;font-size:14px;\r\n",
    "  font-weight:normal;overflow:hidden;padding:10px 5px;word-break:normal;}\r\n",
    ".tg .tg-0pky{border-color:inherit;text-align:left;vertical-align:top}\r\n",
    "</style>\r\n",
    "<table class=\"tg\">\r\n",
    "<thead>\r\n",
    "  <tr>\r\n",
    "    <th class=\"tg-0pky\"><span style=\"font-weht:bd\">**Name**</span></th>\r\n",
    "    <th class=\"tg-0pky\"><span style=\"font-wght:bd\">**dtype**</span></th>\r\n",
    "    <th class=\"tg-0pky\"><span style=\"font-ight:bold\">Description**</span></th>\r\n",
    "    <th class=\"tg-0pky\"></th>\r\n",
    "  </tr>\r\n",
    "</thead>\r\n",
    "<tbody>\r\n",
    "  <tr>\r\n",
    "    <td class=\"tg-0pky\">ID</td>\r\n",
    "    <td class=\"tg-0pky\">int64</td>\r\n",
    "    <td class=\"tg-0pky\">Unique identifier for the record</td>\r\n",
    "    <td class=\"tg-0pky\">numeric</td>\r\n",
    "  </tr>\r\n",
    "  <tr>\r\n",
    "    <td class=\"tg-0pky\">Date</td>\r\n",
    "    <td class=\"tg-0pky\">object</td>\r\n",
    "    <td class=\"tg-0pky\">Date incident occured</td>\r\n",
    "    <td class=\"tg-0pky\">date/time</td>\r\n",
    "  </tr>\r\n",
    "  <tr>\r\n",
    "    <td class=\"tg-0pky\">Primary Type</td>\r\n",
    "    <td class=\"tg-0pky\">object</td>\r\n",
    "    <td class=\"tg-0pky\">Primary description of the IL Uniform Crime Reporting code</td>\r\n",
    "    <td class=\"tg-0pky\">categorical</td>\r\n",
    "  </tr>\r\n",
    "  <tr>\r\n",
    "    <td class=\"tg-0pky\">Description</td>\r\n",
    "    <td class=\"tg-0pky\">object </td>\r\n",
    "    <td class=\"tg-0pky\">Secondary description of IUCR code</td>\r\n",
    "    <td class=\"tg-0pky\">categorical</td>\r\n",
    "  </tr>\r\n",
    "  <tr>\r\n",
    "    <td class=\"tg-0pky\">Location Description</td>\r\n",
    "    <td class=\"tg-0pky\">object </td>\r\n",
    "    <td class=\"tg-0pky\">Location where incident occurred</td>\r\n",
    "    <td class=\"tg-0pky\">categorical</td>\r\n",
    "  </tr>\r\n",
    "  <tr>\r\n",
    "    <td class=\"tg-0pky\">Arrest</td>\r\n",
    "    <td class=\"tg-0pky\">bool</td>\r\n",
    "    <td class=\"tg-0pky\">was an arrest made? </td>\r\n",
    "    <td class=\"tg-0pky\">true/false</td>\r\n",
    "  </tr>\r\n",
    "  <tr>\r\n",
    "    <td class=\"tg-0pky\">Domestic</td>\r\n",
    "    <td class=\"tg-0pky\">bool</td>\r\n",
    "    <td class=\"tg-0pky\">was the incident domestic related? </td>\r\n",
    "    <td class=\"tg-0pky\">true/false</td>\r\n",
    "  </tr>\r\n",
    "  <tr>\r\n",
    "    <td class=\"tg-0pky\">Beat</td>\r\n",
    "    <td class=\"tg-0pky\">int64</td>\r\n",
    "    <td class=\"tg-0pky\">beat where occured, Beat: smallest geo area deidcate police beat car</td>\r\n",
    "    <td class=\"tg-0pky\">numeric</td>\r\n",
    "  </tr>\r\n",
    "  <tr>\r\n",
    "    <td class=\"tg-0pky\">District</td>\r\n",
    "    <td class=\"tg-0pky\">float64</td>\r\n",
    "    <td class=\"tg-0pky\">indicates district where occured</td>\r\n",
    "    <td class=\"tg-0pky\">numeric</td>\r\n",
    "  </tr>\r\n",
    "  <tr>\r\n",
    "    <td class=\"tg-0pky\">Ward</td>\r\n",
    "    <td class=\"tg-0pky\">float64</td>\r\n",
    "    <td class=\"tg-0pky\">indicates city council district/ward where occured</td>\r\n",
    "    <td class=\"tg-0pky\">numeric</td>\r\n",
    "  </tr>\r\n",
    "  <tr>\r\n",
    "    <td class=\"tg-0pky\">Latitude</td>\r\n",
    "    <td class=\"tg-0pky\">float64 </td>\r\n",
    "    <td class=\"tg-0pky\">latitude where occured</td>\r\n",
    "    <td class=\"tg-0pky\">numeric</td>\r\n",
    "  </tr>\r\n",
    "  <tr>\r\n",
    "    <td class=\"tg-0pky\">Longitude</td>\r\n",
    "    <td class=\"tg-0pky\">float64</td>\r\n",
    "    <td class=\"tg-0pky\">longitude where occured</td>\r\n",
    "    <td class=\"tg-0pky\">numeric</td>\r\n",
    "  </tr>\r\n",
    "</tbody>\r\n",
    "</table>"
   ]
  },
  {
   "cell_type": "markdown",
   "id": "bf18c670-15d6-403a-aa55-d55782387e90",
   "metadata": {},
   "source": [
    "# Task:\n",
    "A reporter for a local newspaper has a series of questions related to crime rates in Chicago. "
   ]
  },
  {
   "cell_type": "markdown",
   "id": "01aadd4c-6976-4f2a-bd5e-a2d8593280f9",
   "metadata": {},
   "source": [
    "### Imports"
   ]
  },
  {
   "cell_type": "code",
   "execution_count": 2,
   "id": "3dceecea-a786-4266-8a78-9ef9bda57dcd",
   "metadata": {},
   "outputs": [],
   "source": [
    "import pandas as pd\n",
    "import glob\n",
    "import numpy as np\n",
    "import seaborn as sns\n",
    "import matplotlib.pyplot as plt\n",
    "import matplotlib.dates as mdates\n",
    "import matplotlib.ticker as mticks\n",
    "\n",
    "import datetime as dt\n",
    "import statsmodels.tsa.api as tsa\n",
    "\n",
    "import holidays\n",
    "from holidays import country_holidays"
   ]
  },
  {
   "cell_type": "code",
   "execution_count": 3,
   "id": "57d7439f-90a7-44c1-90f6-18bc349a1ad5",
   "metadata": {},
   "outputs": [],
   "source": [
    "sns.set_context('notebook', font_scale=0.9)\n",
    "plt.style.use(['ggplot'])"
   ]
  },
  {
   "cell_type": "markdown",
   "id": "32e4a83d-118c-48fa-b93f-0b3bae3fc66d",
   "metadata": {},
   "source": [
    "### Load Data"
   ]
  },
  {
   "cell_type": "code",
   "execution_count": 4,
   "id": "2b39174f-2766-48ea-93f1-cf863c8aefb6",
   "metadata": {},
   "outputs": [
    {
     "data": {
      "text/html": [
       "<div>\n",
       "<style scoped>\n",
       "    .dataframe tbody tr th:only-of-type {\n",
       "        vertical-align: middle;\n",
       "    }\n",
       "\n",
       "    .dataframe tbody tr th {\n",
       "        vertical-align: top;\n",
       "    }\n",
       "\n",
       "    .dataframe thead th {\n",
       "        text-align: right;\n",
       "    }\n",
       "</style>\n",
       "<table border=\"1\" class=\"dataframe\">\n",
       "  <thead>\n",
       "    <tr style=\"text-align: right;\">\n",
       "      <th></th>\n",
       "      <th>Date</th>\n",
       "      <th>ID</th>\n",
       "      <th>Primary Type</th>\n",
       "      <th>Description</th>\n",
       "      <th>Location Description</th>\n",
       "      <th>Arrest</th>\n",
       "      <th>Domestic</th>\n",
       "      <th>Beat</th>\n",
       "      <th>District</th>\n",
       "      <th>Ward</th>\n",
       "      <th>Latitude</th>\n",
       "      <th>Longitude</th>\n",
       "    </tr>\n",
       "  </thead>\n",
       "  <tbody>\n",
       "    <tr>\n",
       "      <th>238853</th>\n",
       "      <td>12/31/2022 12:50:00 PM</td>\n",
       "      <td>12938029</td>\n",
       "      <td>ASSAULT</td>\n",
       "      <td>SIMPLE</td>\n",
       "      <td>APARTMENT</td>\n",
       "      <td>False</td>\n",
       "      <td>False</td>\n",
       "      <td>1014</td>\n",
       "      <td>10.0</td>\n",
       "      <td>24.0</td>\n",
       "      <td>41.855911</td>\n",
       "      <td>-87.719966</td>\n",
       "    </tr>\n",
       "    <tr>\n",
       "      <th>238854</th>\n",
       "      <td>12/31/2022 12:50:00 PM</td>\n",
       "      <td>12937822</td>\n",
       "      <td>ASSAULT</td>\n",
       "      <td>AGGRAVATED - HANDGUN</td>\n",
       "      <td>APARTMENT</td>\n",
       "      <td>False</td>\n",
       "      <td>True</td>\n",
       "      <td>733</td>\n",
       "      <td>7.0</td>\n",
       "      <td>6.0</td>\n",
       "      <td>41.766546</td>\n",
       "      <td>-87.645669</td>\n",
       "    </tr>\n",
       "    <tr>\n",
       "      <th>238855</th>\n",
       "      <td>12/31/2022 12:52:00 AM</td>\n",
       "      <td>12937583</td>\n",
       "      <td>BATTERY</td>\n",
       "      <td>SIMPLE</td>\n",
       "      <td>BARBERSHOP</td>\n",
       "      <td>False</td>\n",
       "      <td>False</td>\n",
       "      <td>1135</td>\n",
       "      <td>11.0</td>\n",
       "      <td>28.0</td>\n",
       "      <td>41.868829</td>\n",
       "      <td>-87.686098</td>\n",
       "    </tr>\n",
       "    <tr>\n",
       "      <th>238856</th>\n",
       "      <td>12/31/2022 12:52:00 PM</td>\n",
       "      <td>12938420</td>\n",
       "      <td>ASSAULT</td>\n",
       "      <td>SIMPLE</td>\n",
       "      <td>COMMERCIAL / BUSINESS OFFICE</td>\n",
       "      <td>False</td>\n",
       "      <td>False</td>\n",
       "      <td>1432</td>\n",
       "      <td>14.0</td>\n",
       "      <td>32.0</td>\n",
       "      <td>41.930693</td>\n",
       "      <td>-87.685657</td>\n",
       "    </tr>\n",
       "    <tr>\n",
       "      <th>238857</th>\n",
       "      <td>12/31/2022 12:59:00 PM</td>\n",
       "      <td>12939906</td>\n",
       "      <td>DECEPTIVE PRACTICE</td>\n",
       "      <td>FINANCIAL IDENTITY THEFT $300 AND UNDER</td>\n",
       "      <td>RESIDENCE</td>\n",
       "      <td>False</td>\n",
       "      <td>False</td>\n",
       "      <td>1511</td>\n",
       "      <td>15.0</td>\n",
       "      <td>29.0</td>\n",
       "      <td>NaN</td>\n",
       "      <td>NaN</td>\n",
       "    </tr>\n",
       "  </tbody>\n",
       "</table>\n",
       "</div>"
      ],
      "text/plain": [
       "                          Date        ID        Primary Type  \\\n",
       "238853  12/31/2022 12:50:00 PM  12938029             ASSAULT   \n",
       "238854  12/31/2022 12:50:00 PM  12937822             ASSAULT   \n",
       "238855  12/31/2022 12:52:00 AM  12937583             BATTERY   \n",
       "238856  12/31/2022 12:52:00 PM  12938420             ASSAULT   \n",
       "238857  12/31/2022 12:59:00 PM  12939906  DECEPTIVE PRACTICE   \n",
       "\n",
       "                                    Description          Location Description  \\\n",
       "238853                                   SIMPLE                     APARTMENT   \n",
       "238854                     AGGRAVATED - HANDGUN                     APARTMENT   \n",
       "238855                                   SIMPLE                    BARBERSHOP   \n",
       "238856                                   SIMPLE  COMMERCIAL / BUSINESS OFFICE   \n",
       "238857  FINANCIAL IDENTITY THEFT $300 AND UNDER                     RESIDENCE   \n",
       "\n",
       "        Arrest  Domestic  Beat  District  Ward   Latitude  Longitude  \n",
       "238853   False     False  1014      10.0  24.0  41.855911 -87.719966  \n",
       "238854   False      True   733       7.0   6.0  41.766546 -87.645669  \n",
       "238855   False     False  1135      11.0  28.0  41.868829 -87.686098  \n",
       "238856   False     False  1432      14.0  32.0  41.930693 -87.685657  \n",
       "238857   False     False  1511      15.0  29.0        NaN        NaN  "
      ]
     },
     "execution_count": 4,
     "metadata": {},
     "output_type": "execute_result"
    }
   ],
   "source": [
    "folder = \"data/*Crime*.csv\"\n",
    "crime_files = sorted(glob.glob(folder, recursive=True))\n",
    "df = pd.concat([pd.read_csv(f) for f in crime_files])\n",
    "df.tail()"
   ]
  },
  {
   "cell_type": "code",
   "execution_count": 5,
   "id": "e0c6bd9e-fc29-45ab-a8c0-070dd77a2e84",
   "metadata": {
    "scrolled": true
   },
   "outputs": [
    {
     "data": {
      "text/html": [
       "<div>\n",
       "<style scoped>\n",
       "    .dataframe tbody tr th:only-of-type {\n",
       "        vertical-align: middle;\n",
       "    }\n",
       "\n",
       "    .dataframe tbody tr th {\n",
       "        vertical-align: top;\n",
       "    }\n",
       "\n",
       "    .dataframe thead th {\n",
       "        text-align: right;\n",
       "    }\n",
       "</style>\n",
       "<table border=\"1\" class=\"dataframe\">\n",
       "  <thead>\n",
       "    <tr style=\"text-align: right;\">\n",
       "      <th></th>\n",
       "      <th>Date</th>\n",
       "      <th>ID</th>\n",
       "      <th>Primary Type</th>\n",
       "      <th>Description</th>\n",
       "      <th>Location Description</th>\n",
       "      <th>Arrest</th>\n",
       "      <th>Domestic</th>\n",
       "      <th>Beat</th>\n",
       "      <th>District</th>\n",
       "      <th>Ward</th>\n",
       "      <th>Latitude</th>\n",
       "      <th>Longitude</th>\n",
       "    </tr>\n",
       "  </thead>\n",
       "  <tbody>\n",
       "    <tr>\n",
       "      <th>0</th>\n",
       "      <td>2001-01-01 01:00:00</td>\n",
       "      <td>1326041</td>\n",
       "      <td>BATTERY</td>\n",
       "      <td>SIMPLE</td>\n",
       "      <td>RESIDENCE</td>\n",
       "      <td>False</td>\n",
       "      <td>False</td>\n",
       "      <td>1624</td>\n",
       "      <td>16.0</td>\n",
       "      <td>NaN</td>\n",
       "      <td>41.957850</td>\n",
       "      <td>-87.749185</td>\n",
       "    </tr>\n",
       "    <tr>\n",
       "      <th>1</th>\n",
       "      <td>2001-01-01 01:00:00</td>\n",
       "      <td>1317937</td>\n",
       "      <td>BATTERY</td>\n",
       "      <td>SIMPLE</td>\n",
       "      <td>RESIDENCE PORCH/HALLWAY</td>\n",
       "      <td>False</td>\n",
       "      <td>False</td>\n",
       "      <td>334</td>\n",
       "      <td>3.0</td>\n",
       "      <td>NaN</td>\n",
       "      <td>41.762514</td>\n",
       "      <td>-87.565877</td>\n",
       "    </tr>\n",
       "    <tr>\n",
       "      <th>2</th>\n",
       "      <td>2001-01-01 01:00:00</td>\n",
       "      <td>1310824</td>\n",
       "      <td>THEFT</td>\n",
       "      <td>$500 AND UNDER</td>\n",
       "      <td>BAR OR TAVERN</td>\n",
       "      <td>False</td>\n",
       "      <td>False</td>\n",
       "      <td>323</td>\n",
       "      <td>3.0</td>\n",
       "      <td>NaN</td>\n",
       "      <td>41.765484</td>\n",
       "      <td>-87.621836</td>\n",
       "    </tr>\n",
       "    <tr>\n",
       "      <th>3</th>\n",
       "      <td>2001-01-01 01:00:00</td>\n",
       "      <td>1313086</td>\n",
       "      <td>THEFT</td>\n",
       "      <td>OVER $500</td>\n",
       "      <td>OTHER</td>\n",
       "      <td>False</td>\n",
       "      <td>False</td>\n",
       "      <td>1732</td>\n",
       "      <td>17.0</td>\n",
       "      <td>NaN</td>\n",
       "      <td>41.953070</td>\n",
       "      <td>-87.716716</td>\n",
       "    </tr>\n",
       "    <tr>\n",
       "      <th>4</th>\n",
       "      <td>2001-01-01 01:00:00</td>\n",
       "      <td>1310858</td>\n",
       "      <td>OTHER OFFENSE</td>\n",
       "      <td>TELEPHONE THREAT</td>\n",
       "      <td>RESIDENCE</td>\n",
       "      <td>False</td>\n",
       "      <td>False</td>\n",
       "      <td>1724</td>\n",
       "      <td>17.0</td>\n",
       "      <td>NaN</td>\n",
       "      <td>41.955619</td>\n",
       "      <td>-87.708919</td>\n",
       "    </tr>\n",
       "  </tbody>\n",
       "</table>\n",
       "</div>"
      ],
      "text/plain": [
       "                  Date       ID   Primary Type       Description  \\\n",
       "0  2001-01-01 01:00:00  1326041        BATTERY            SIMPLE   \n",
       "1  2001-01-01 01:00:00  1317937        BATTERY            SIMPLE   \n",
       "2  2001-01-01 01:00:00  1310824          THEFT    $500 AND UNDER   \n",
       "3  2001-01-01 01:00:00  1313086          THEFT         OVER $500   \n",
       "4  2001-01-01 01:00:00  1310858  OTHER OFFENSE  TELEPHONE THREAT   \n",
       "\n",
       "      Location Description  Arrest  Domestic  Beat  District  Ward   Latitude  \\\n",
       "0                RESIDENCE   False     False  1624      16.0   NaN  41.957850   \n",
       "1  RESIDENCE PORCH/HALLWAY   False     False   334       3.0   NaN  41.762514   \n",
       "2            BAR OR TAVERN   False     False   323       3.0   NaN  41.765484   \n",
       "3                    OTHER   False     False  1732      17.0   NaN  41.953070   \n",
       "4                RESIDENCE   False     False  1724      17.0   NaN  41.955619   \n",
       "\n",
       "   Longitude  \n",
       "0 -87.749185  \n",
       "1 -87.565877  \n",
       "2 -87.621836  \n",
       "3 -87.716716  \n",
       "4 -87.708919  "
      ]
     },
     "execution_count": 5,
     "metadata": {},
     "output_type": "execute_result"
    }
   ],
   "source": [
    "df.head()"
   ]
  },
  {
   "cell_type": "code",
   "execution_count": 6,
   "id": "68a4310e-ac22-43a2-8efc-c1560980aa51",
   "metadata": {},
   "outputs": [
    {
     "name": "stdout",
     "output_type": "stream",
     "text": [
      "<class 'pandas.core.frame.DataFrame'>\n",
      "Int64Index: 15426218 entries, 0 to 238857\n",
      "Data columns (total 12 columns):\n",
      " #   Column                Dtype  \n",
      "---  ------                -----  \n",
      " 0   Date                  object \n",
      " 1   ID                    int64  \n",
      " 2   Primary Type          object \n",
      " 3   Description           object \n",
      " 4   Location Description  object \n",
      " 5   Arrest                bool   \n",
      " 6   Domestic              bool   \n",
      " 7   Beat                  int64  \n",
      " 8   District              float64\n",
      " 9   Ward                  float64\n",
      " 10  Latitude              float64\n",
      " 11  Longitude             float64\n",
      "dtypes: bool(2), float64(4), int64(2), object(4)\n",
      "memory usage: 1.3+ GB\n"
     ]
    }
   ],
   "source": [
    "df.info()"
   ]
  },
  {
   "cell_type": "code",
   "execution_count": null,
   "id": "b5cf3f64-84db-4917-9a6a-8a35563fc286",
   "metadata": {},
   "outputs": [],
   "source": [
    "ts = df.copy()\n",
    "ts.isna().sum()"
   ]
  },
  {
   "cell_type": "code",
   "execution_count": null,
   "id": "eb3cda5b-a59f-4e57-ae11-19aef75ed890",
   "metadata": {},
   "outputs": [],
   "source": [
    "\n",
    "ts=ts.drop(columns = [\"Ward\", \"Latitude\", \"Longitude\"])\n",
    "ts.info()"
   ]
  },
  {
   "cell_type": "code",
   "execution_count": null,
   "id": "9d70be8b-90a5-4cd3-ab36-6bebbc8f0aba",
   "metadata": {},
   "outputs": [],
   "source": [
    "ts['Datetime'] = ts['Date'].apply(lambda x: pd.to_datetime(x).strftime(\n",
    "    \"%Y-%m-%d %H:%M:%S\"))"
   ]
  },
  {
   "cell_type": "code",
   "execution_count": null,
   "id": "0ee5d5a6-8b35-40e5-9309-a03c82c9022a",
   "metadata": {},
   "outputs": [],
   "source": [
    "#Set index column to datetime\n",
    "ts = ts.set_index('Datetime')\n",
    "ts.head(2)\n"
   ]
  },
  {
   "cell_type": "markdown",
   "id": "c70c8b4d-98c5-4b84-9e6e-ea0eed03a144",
   "metadata": {},
   "source": [
    "## Senario 1:  Comparing Crimes Across the Years"
   ]
  },
  {
   "cell_type": "markdown",
   "id": "1ca1a230-137a-4fb6-8545-61d0b59734b8",
   "metadata": {},
   "source": [
    "-  Looking at crimes from 2001 to 2022, is there an increase or decrease in the overall crime rate?\n",
    "-  Are there any individual crimes that are going the opposite of the trend?"
   ]
  },
  {
   "cell_type": "markdown",
   "id": "c94a64ca-65f2-4391-91bd-9636dbe16802",
   "metadata": {},
   "source": [
    "**ToDo:**\n",
    "- isolate columns for years\n",
    "- ```.size``` for total number of crimes\n",
    "- make a visualization of the crimes\n",
    "                 "
   ]
  },
  {
   "cell_type": "code",
   "execution_count": null,
   "id": "0808315f-7591-40b3-9e5b-d9b2acf90773",
   "metadata": {},
   "outputs": [],
   "source": [
    "crimes_by_year = ts.resample(\"Y\").size()\n",
    "crimes_by_year.head(2)"
   ]
  },
  {
   "cell_type": "code",
   "execution_count": null,
   "id": "da8d1aa1-220a-4022-a595-8946d56793e0",
   "metadata": {},
   "outputs": [],
   "source": [
    "ax = plt.figure(figsize=(12,5))\n",
    "ax= total_crimes_by_year.plot(kind='bar', legend=False,\n",
    "                              title='Total Number of Crimes by Year', ylabel='# of Crimes')\n",
    "ax.set_xticks(ax.get_xticks())\n",
    "ax.set_xticklabels(ax.get_xticklabels(),fontsize='large', fontweight='bold');"
   ]
  },
  {
   "cell_type": "markdown",
   "id": "ff05131f-3bc8-49de-9701-b67616a07d8f",
   "metadata": {},
   "source": [
    "### Is the total number of crimes increasing/decreasing across the years?\n",
    "***Overall the total number of crimes is decreasing across the years***\n",
    "\n"
   ]
  },
  {
   "cell_type": "markdown",
   "id": "fa0689a4-9fb7-4789-8e3d-bc14888883ca",
   "metadata": {},
   "source": [
    "#### Are there any individual crimes that are doing the opposite?"
   ]
  },
  {
   "cell_type": "code",
   "execution_count": null,
   "id": "a21c326e-d8d8-44ec-b3c4-62edf6cca449",
   "metadata": {},
   "outputs": [],
   "source": [
    "dff['Year'] = dff.index.year\n",
    "dff.head(3)"
   ]
  },
  {
   "cell_type": "code",
   "execution_count": null,
   "id": "fe448e5b-ee44-40fd-b8cd-432d1b66ae08",
   "metadata": {
    "scrolled": true
   },
   "outputs": [],
   "source": [
    "#Slice columns for this analysis\n",
    "cols = ['Primary Type', 'Year']\n",
    "temp = dff[cols]\n",
    "temp.info()"
   ]
  },
  {
   "cell_type": "code",
   "execution_count": null,
   "id": "b90217b9-88e3-4a5b-8428-bdc3a012eeac",
   "metadata": {
    "scrolled": true
   },
   "outputs": [],
   "source": [
    "temp.nunique()"
   ]
  },
  {
   "cell_type": "code",
   "execution_count": null,
   "id": "ce5ab1d5-dcd8-4dd9-8180-5364c4f855ef",
   "metadata": {},
   "outputs": [],
   "source": [
    "type_crime = temp['Primary Type'].value_counts().to_frame('Total # of Crimes')\n",
    "type_crime"
   ]
  },
  {
   "cell_type": "code",
   "execution_count": null,
   "id": "c078544a-1a25-4d96-b4be-4f832fd1d476",
   "metadata": {},
   "outputs": [],
   "source": [
    "#create a dictionary for just types of crime\n",
    "crime_dict = {}\n",
    "crime= 'THEFT'\n",
    "crime"
   ]
  },
  {
   "cell_type": "code",
   "execution_count": null,
   "id": "dfae0515-483b-42ef-a4bf-d7ccd4aad72e",
   "metadata": {},
   "outputs": [],
   "source": [
    "#Save a temporary df for just rows of crime\n",
    "tempdf = temp.loc[temp['Primary Type'] == crime]\n",
    "tempdf.head(3)"
   ]
  },
  {
   "cell_type": "code",
   "execution_count": null,
   "id": "e9b7663d-2d3d-4c8e-933d-f2e4786a1113",
   "metadata": {},
   "outputs": [],
   "source": [
    "year_sample=tempdf.resample(\"Y\").size()\n",
    "year_sample.head()"
   ]
  },
  {
   "cell_type": "code",
   "execution_count": null,
   "id": "7cf40966-efa9-4825-beb0-520ac9a16e24",
   "metadata": {},
   "outputs": [],
   "source": [
    "crime_dict[crime] = year_sample.copy()\n",
    "crime_dict.keys()"
   ]
  },
  {
   "cell_type": "code",
   "execution_count": null,
   "id": "c232bb4f-b2a1-4fc9-9e51-9c561c3fca05",
   "metadata": {},
   "outputs": [],
   "source": [
    "crime_dict['THEFT']"
   ]
  },
  {
   "cell_type": "code",
   "execution_count": null,
   "id": "e838c597-4697-4d6c-ab2d-7bb7e2ba19e8",
   "metadata": {},
   "outputs": [],
   "source": [
    "#Create a for loop\n",
    "crime_list = dff['Primary Type'].unique()\n",
    "crime_list"
   ]
  },
  {
   "cell_type": "code",
   "execution_count": null,
   "id": "2aa401a3-431d-4f3b-b031-33f90a81802a",
   "metadata": {},
   "outputs": [],
   "source": [
    "for crime in crime_list:\n",
    "    tempdf = temp.loc[temp['Primary Type'] == crime].copy()\n",
    "    year_sample=tempdf.resample(\"Y\").size()\n",
    "    crime_dict[crime] = year_sample.copy()\n",
    "crime_dict.keys()"
   ]
  },
  {
   "cell_type": "code",
   "execution_count": null,
   "id": "34703e9e-305a-4c1d-b8f3-dd914b154b22",
   "metadata": {},
   "outputs": [],
   "source": [
    "#Convert dictionary into datafrome\n",
    "crimesdf = pd.DataFrame(crime_dict)\n",
    "crimesdf"
   ]
  },
  {
   "cell_type": "code",
   "execution_count": null,
   "id": "ff891ef9-f9c9-483c-83cb-34418274fd3b",
   "metadata": {},
   "outputs": [],
   "source": [
    "#Plot the types of crimes by year\n",
    "fig=ax.get_figure()\n",
    "fig, axes = plt.subplots(12, 3, figsize=(10, 20), constrained_layout=True, sharex=True, sharey=True)\n",
    "crimesdf.plot(subplots=True, ax=axes, legend=None)\n",
    "#For loop to label individual plots\n",
    "for gn, ax in enumerate(axes.flat):\n",
    "    column_name = list(crime_dict.keys())[gn]\n",
    "    y = crimesdf[column_name]\n",
    "    ax.bar(crimesdf.index, y)  \n",
    "    ax.set_title(column_name, fontsize='small', loc='left')\n",
    "#Set title/labels\n",
    "fig.suptitle('Types of Crimes Between 2001 and 2022', x=0.5, y=1.02)\n",
    "fig.supxlabel('Year')\n",
    "fig.supylabel('Number of Crimes')\n",
    "#Set ticklables\n",
    "for ax in axes.flat:\n",
    "    ax.set_xticks(ax.get_xticks())\n",
    "    ax.set_xticklabels(ax.get_xticklabels(), fontsize='small')\n",
    "\n",
    "plt.show();\n",
    "\n",
    "#adapted from source: matplotlib.org/stable/gallery/subplots_axes_and_figures/index.html"
   ]
  },
  {
   "cell_type": "markdown",
   "id": "40f0a367-692e-47c7-8d0d-9e5f5983e20a",
   "metadata": {},
   "source": [
    "### Are there any individual crimes that are doing the opposite?\n",
    "      * Over all there is a decrease in the number of crimes\n",
    "      * There are no crimes that appear to be doing the opposite. There are several crimes don't have enough data to make any assumptions from."
   ]
  },
  {
   "cell_type": "markdown",
   "id": "e8451de8-3e5a-4eaf-ab68-f3e492c4c9b7",
   "metadata": {},
   "source": [
    "## Senario 2:  Comparing Holidays"
   ]
  },
  {
   "cell_type": "code",
   "execution_count": null,
   "id": "9ff7c026-83c8-4f5b-a7fa-d6e95aeeb89b",
   "metadata": {
    "scrolled": true
   },
   "outputs": [],
   "source": [
    "#copy df\n",
    "hdf = df.copy()\n",
    "hdf.head(2)"
   ]
  },
  {
   "cell_type": "code",
   "execution_count": null,
   "id": "a254300e-1fd6-4053-a8c9-d00c83b962f8",
   "metadata": {
    "scrolled": true
   },
   "outputs": [],
   "source": [
    "hdf.columns"
   ]
  },
  {
   "cell_type": "code",
   "execution_count": null,
   "id": "253acaf4-0a2a-4dd0-a030-96ac2dc4bf58",
   "metadata": {},
   "outputs": [],
   "source": [
    "#Set format for datetime and change dtype\n",
    "date_format = \"%m/%d/%Y %H:%M:%S %p\"\n",
    "\n",
    "hdf['Datetime'] = pd.to_datetime(df['Date'], format=date_format)\n",
    "hdf = hdf.sort_values('Datetime')\n",
    "hdf.head(2)"
   ]
  },
  {
   "cell_type": "markdown",
   "id": "a592c6e9-66e4-48e2-84ea-c78c36c73933",
   "metadata": {},
   "source": [
    "#### What are the top 3 holidays with the largest number of crimes?"
   ]
  },
  {
   "cell_type": "code",
   "execution_count": null,
   "id": "32363cad-e917-4b6e-8d92-248baac29c8f",
   "metadata": {
    "scrolled": true
   },
   "outputs": [],
   "source": [
    "keep_cols=[\"Datetime\", \"Primary Type\"]\n",
    "hdf=hdf[keep_cols]\n",
    "hdf.info()"
   ]
  },
  {
   "cell_type": "code",
   "execution_count": null,
   "id": "f1f8fe94-5b2e-4119-9558-f6c7dc8ce96e",
   "metadata": {},
   "outputs": [],
   "source": [
    "#make a date range that covers the full dataset\n",
    "all_days = pd.date_range(hdf['Datetime'].min(), hdf['Datetime'].max())\n",
    "all_days"
   ]
  },
  {
   "cell_type": "code",
   "execution_count": null,
   "id": "3fd4cfda-ff4d-4522-924c-1a557782554e",
   "metadata": {},
   "outputs": [],
   "source": [
    "#create an instance of the US only holidays\n",
    "us_holidays = country_holidays('US')\n"
   ]
  },
  {
   "cell_type": "code",
   "execution_count": null,
   "id": "559ba51f-6e5f-46e0-9854-6893e1b46fd9",
   "metadata": {},
   "outputs": [],
   "source": [
    "#Get a list of all holidays\n",
    "holidays = [us_holidays.get(day) for day in all_days]\n",
    "holidays[:5]\n",
    "            "
   ]
  },
  {
   "cell_type": "code",
   "execution_count": null,
   "id": "8264bf7f-6f88-4f89-a396-38094405a65f",
   "metadata": {},
   "outputs": [],
   "source": [
    "hdf['US Holiday'] = [us_holidays.get(day) for day in hdf['Datetime']]\n",
    "hdf.head(2)\n",
    "\n",
    "## Save a binary is holiday feature\n",
    "#hdf['Is_Holiday'] = hdf['US Holiday'].notna()\n",
    "#hdf['Is_Holiday'].value_counts()"
   ]
  },
  {
   "cell_type": "code",
   "execution_count": null,
   "id": "97dd8c38-a77d-43a9-8d18-1eaa8dea396c",
   "metadata": {},
   "outputs": [],
   "source": []
  },
  {
   "cell_type": "code",
   "execution_count": null,
   "id": "cc1d9831-d1d4-422c-9509-2f53546aee55",
   "metadata": {},
   "outputs": [],
   "source": [
    "top_holidays = [hdf['US Holiday'].value_counts()]\n",
    "top_holidays"
   ]
  },
  {
   "cell_type": "code",
   "execution_count": null,
   "id": "14d5cfd0-56e9-4585-bd2c-b16f4befee16",
   "metadata": {},
   "outputs": [],
   "source": [
    "\n"
   ]
  },
  {
   "cell_type": "code",
   "execution_count": null,
   "id": "6218a89a-dbe5-428e-915c-5c2458de5f46",
   "metadata": {
    "scrolled": true
   },
   "outputs": [],
   "source": [
    "#Create list with crimes by holiday\n",
    "crimes_by_holiday = hdf.groupby(\"US Holiday\")['Primary Type'].value_counts()\n",
    "crimes_by_holiday\n"
   ]
  },
  {
   "cell_type": "code",
   "execution_count": null,
   "id": "d57e4ccf-3feb-42ab-9ff7-d95a93af4eba",
   "metadata": {
    "scrolled": true
   },
   "outputs": [],
   "source": [
    "\n"
   ]
  },
  {
   "cell_type": "code",
   "execution_count": null,
   "id": "e7d3fe0d-f3d1-44df-9e90-49fe47f290bc",
   "metadata": {},
   "outputs": [],
   "source": [
    "crimes_by_holiday = hdf.groupby([\"US Holiday\", \"Primary Type\"]).size().unstack(fill_value=0)\n",
    "\n",
    "# Plotting\n",
    "plt.figure(figsize=(14, 8))\n",
    "ax=crimes_by_holiday.plot(kind='bar', stacked=True, figsize=(14,8))\n",
    "\n",
    "ax.set_title('Crime Counts Over Time by US Holidays')\n",
    "ax.set_xlabel('US Holiday')\n",
    "ax.set_ylabel('Total Number of Crimes')\n",
    "plt.legend(title='US Holiday', bbox_to_anchor=(1,1), loc='best')\n",
    "###Source: matplolib.org/3.1.1/spi/_as_gen/matplolib.pyplot.legend.html\n",
    "plt.show();"
   ]
  },
  {
   "cell_type": "markdown",
   "id": "e0e72417-6f6e-46fe-b0cc-5b65005278d0",
   "metadata": {},
   "source": [
    "### The top 3 holidays with the largest number of crimes are:\n",
    "    *  New Years Day\n",
    "    *  Independace Day\n",
    "    *  Labor Day"
   ]
  },
  {
   "cell_type": "markdown",
   "id": "4cfe0d24-f7fb-4029-a6a2-6d55ec480dfd",
   "metadata": {},
   "source": [
    "##### What are the most crimes on those days"
   ]
  },
  {
   "cell_type": "code",
   "execution_count": null,
   "id": "661958d9-682e-4764-8df9-b04d9d845b76",
   "metadata": {},
   "outputs": [],
   "source": [
    "hdf.head(2)"
   ]
  },
  {
   "cell_type": "code",
   "execution_count": null,
   "id": "1d429bed-d777-4737-9d91-77db20eef4d3",
   "metadata": {
    "scrolled": true
   },
   "outputs": [],
   "source": [
    "top_holidays = [\"New Year's Day\", \"Independence Day\",\"Labor Day\"]\n",
    "top_crimes = hdf[hdf['US Holiday'].apply(lambda h: h in top_holidays)]\n",
    "top_crimes.info()\n",
    "### Adapted from: alexmalins.com/blog/using-pandas-isin-method-with-pyton-on-holidays-package/"
   ]
  },
  {
   "cell_type": "code",
   "execution_count": null,
   "id": "6b038d2f-e2b4-4bbb-9d50-d84f5de7626b",
   "metadata": {},
   "outputs": [],
   "source": [
    "top_crimes['US Holiday'].nunique()"
   ]
  },
  {
   "cell_type": "code",
   "execution_count": null,
   "id": "ef536c0b-aea7-46c2-8322-c40bce49ef07",
   "metadata": {
    "scrolled": true
   },
   "outputs": [],
   "source": [
    "top_crimes['Primary Type'].nunique()"
   ]
  },
  {
   "cell_type": "code",
   "execution_count": null,
   "id": "1a8abcf7-882b-4631-9f2a-38ffe2118eb0",
   "metadata": {
    "scrolled": true
   },
   "outputs": [],
   "source": [
    "mostcrimes=top_crimes.groupby([\"US Holiday\", \"Primary Type\"]).filter(lambda c:len(c)>1500)"
   ]
  },
  {
   "cell_type": "code",
   "execution_count": null,
   "id": "af3102e7-2973-4e73-9573-54abb2c7f5e2",
   "metadata": {
    "scrolled": true
   },
   "outputs": [],
   "source": [
    "holiday_crimes = mostcrimes.groupby([\"US Holiday\", \"Primary Type\"]).size().unstack(fill_value=0)\n",
    "\n",
    "# Plotting\n",
    "plt.figure(figsize=(14, 8))\n",
    "ax=holiday_crimes.plot(kind='bar', stacked=True, figsize=(14,8))\n",
    "ax.set_title(\"Crimes Committed on New Year's Day, Independence Day, and Labor Day\", fontsize=20)\n",
    "ax.set_xlabel('Holidays', fontsize=15)\n",
    "ax.set_ylabel('Total Crimes', fontsize=15)\n",
    "plt.legend(title='Crimes', bbox_to_anchor=(1,1), loc='best')\n",
    "###Source: matplolib.org/3.1.1/spi/_as_gen/matplolib.pyplot.legend.html\n",
    "\n",
    "#Annotate each bar with the total count\n",
    "for p in ax.patches:\n",
    "    width, height = p.get_width(), p.get_height()\n",
    "    x,y = p.get_xy()\n",
    "    ax.annotate(f'{height}', (x+width/2, y+height/2), ha='center', fontsize=13, color='black')\n",
    "###Source: https://stackoverflow.com/questions/50160788/annotate-stacked-barplot-matplotlib-and-pandas\n",
    "plt.show();"
   ]
  },
  {
   "cell_type": "markdown",
   "id": "b3b4ed03-799e-4804-a3ec-f27f03abb0da",
   "metadata": {},
   "source": [
    "#### For each of the top 3 holidays with the most crime, \n",
    "#### What are the top 5 most common crimes on that holiday?"
   ]
  },
  {
   "cell_type": "markdown",
   "id": "bbd18821-9657-4437-ae06-83c5446bce2f",
   "metadata": {},
   "source": [
    "<style type=\"text/css\">\r\n",
    ".tg  {border-collapse:collapse;border-spacing:0;}\r\n",
    ".tg td{border-color:black;border-style:solid;border-width:1px;font-family:Arial, sans-serif;font-size:14px;\r\n",
    "  overflow:hidden;padding:10px 5px;word-break:normal;}\r\n",
    ".tg th{border-color:black;border-style:solid;border-width:1px;font-family:Arial, sans-serif;font-size:14px;\r\n",
    "  font-weight:normal;overflow:hidden;padding:10px 5px;word-break:normal;}\r\n",
    ".tg .tg-9wq8{border-color:inherit;text-align:center;vertical-align:middle}\r\n",
    ".tg .tg-baqh{text-align:center;vertical-align:top}\r\n",
    ".tg .tg-8zwo{font-style:italic;text-align:left;vertical-align:top}\r\n",
    ".tg .tg-rvyq{border-color:inherit;font-style:italic;font-weight:bold;text-align:center;vertical-align:top}\r\n",
    ".tg .tg-0pky{border-color:inherit;text-align:left;vertical-align:top}\r\n",
    "</style>\r\n",
    "<table class=\"tg\">\r\n",
    "<thead>\r\n",
    "  <tr>\r\n",
    "    <th class=\"tg-9wq8\" colspan=\"6\"><span style=\"font-weight:bold\">Top 5 Crimes Per Day</span></th>\r\n",
    "  </tr>\r\n",
    "</thead>\r\n",
    "<tbody>\r\n",
    "  <tr>\r\n",
    "    <td class=\"tg-baqh\"><span style=\"font-weight:bold\">By Holidays</span></td>\r\n",
    "    <td class=\"tg-8zwo\" colspan=\"5\">In order from most committed to least</td>\r\n",
    "  </tr>\r\n",
    "  <tr>\r\n",
    "    <td class=\"tg-rvyq\">New Year's Day</td>\r\n",
    "    <td class=\"tg-0pky\">Assault</td>\r\n",
    "    <td class=\"tg-0pky\">Battery</td>\r\n",
    "    <td class=\"tg-0pky\">Criminal Damage</td>\r\n",
    "    <td class=\"tg-0pky\">Deceptive Practice</td>\r\n",
    "    <td class=\"tg-0pky\">- Offense Involving Children <br> - Other Offence</td>\r\n",
    "  </tr>\r\n",
    "  <tr>\r\n",
    "    <td class=\"tg-rvyq\">Independence Day</td>\r\n",
    "    <td class=\"tg-0pky\">Battery</td>\r\n",
    "    <td class=\"tg-0pky\">Assault</td>\r\n",
    "    <td class=\"tg-0pky\">Criminal Damage</td>\r\n",
    "    <td class=\"tg-0pky\">Theft</td>\r\n",
    "    <td class=\"tg-0pky\">Narcotics</td>\r\n",
    "  </tr>\r\n",
    "  <tr>\r\n",
    "    <td class=\"tg-rvyq\">Labor Day</td>\r\n",
    "    <td class=\"tg-0pky\">Battery</td>\r\n",
    "    <td class=\"tg-0pky\">Assault</td>\r\n",
    "    <td class=\"tg-0pky\">Criminal Damage</td>\r\n",
    "    <td class=\"tg-0pky\">Narcotics</td>\r\n",
    "    <td class=\"tg-0pky\">Theft</td>\r\n",
    "  </tr>\r\n",
    "</tbody>\r\n",
    "</table>"
   ]
  },
  {
   "cell_type": "markdown",
   "id": "876ee1f0-ef6a-4a4f-9116-be23ee9ed139",
   "metadata": {},
   "source": [
    "## Senario 3:   Comparing Police Districts:"
   ]
  },
  {
   "cell_type": "markdown",
   "id": "373224af-fd03-4ce9-8b04-cd25074ed24f",
   "metadata": {},
   "source": []
  },
  {
   "cell_type": "code",
   "execution_count": null,
   "id": "1968693a-e827-44c0-8e01-ab5bf740c602",
   "metadata": {},
   "outputs": [],
   "source": [
    "#Create a df for this data set\n",
    "district = df.copy()\n",
    "district.head(2)"
   ]
  },
  {
   "cell_type": "code",
   "execution_count": null,
   "id": "1f8630da-fb18-4e00-b3d8-696a8781935f",
   "metadata": {
    "scrolled": true
   },
   "outputs": [],
   "source": [
    "#Set format for datetime and change dtype\n",
    "date_format = \"%m/%d/%Y %H:%M:%S %p\" \n",
    "\n",
    "district['Datetime'] = pd.to_datetime(district['Date'], format=date_format)\n",
    "district = district.sort_values('Datetime')\n",
    "district.head(2)"
   ]
  },
  {
   "cell_type": "code",
   "execution_count": null,
   "id": "7334ef44-9b1c-4f55-8d33-0905b7fd5664",
   "metadata": {},
   "outputs": [],
   "source": [
    "dist=district.copy()"
   ]
  },
  {
   "cell_type": "code",
   "execution_count": null,
   "id": "53446566-d581-4bf6-aff4-9c797cafa303",
   "metadata": {},
   "outputs": [],
   "source": [
    "dist['Year'] = dist['Datetime'].dt.year"
   ]
  },
  {
   "cell_type": "code",
   "execution_count": null,
   "id": "4b9703ac-33db-4b05-92cc-b79b521883ff",
   "metadata": {},
   "outputs": [],
   "source": [
    "dist['Year'].value_counts()"
   ]
  },
  {
   "cell_type": "code",
   "execution_count": null,
   "id": "ee8ddc67-e049-4ba2-a9f1-8f856a4706fc",
   "metadata": {},
   "outputs": [],
   "source": [
    "dist=dist[['ID', 'Year', 'District']]\n",
    "dist.info()"
   ]
  },
  {
   "cell_type": "code",
   "execution_count": null,
   "id": "edee5a0c-8db9-445b-925c-dbe5b4590f7e",
   "metadata": {},
   "outputs": [],
   "source": [
    "dist2022=dist.loc[(dist['Year']==2022)]\n",
    "dist2022.info()\n"
   ]
  },
  {
   "cell_type": "code",
   "execution_count": null,
   "id": "7d67c570-090d-48c1-a016-815deb7495fd",
   "metadata": {},
   "outputs": [],
   "source": [
    "crimes_by_dist=dist2022.groupby(['District']).size()\n",
    "crimes_by_dist.head(3)"
   ]
  },
  {
   "cell_type": "code",
   "execution_count": null,
   "id": "e5ed9ff2-a6c2-467c-aa75-3187dd55c9d9",
   "metadata": {},
   "outputs": [],
   "source": [
    "crimes_by_dist.plot(kind='bar');"
   ]
  },
  {
   "cell_type": "code",
   "execution_count": null,
   "id": "d7140095-fcf9-4365-acc7-bd208557fb20",
   "metadata": {
    "scrolled": true
   },
   "outputs": [],
   "source": [
    "# Plotting\n",
    "plt.figure(figsize=(12, 6),)\n",
    "ax=crimes_by_dist.plot(kind='bar', color='green')\n",
    "ax.set_title(\"Crimes Committed in 2022 by District\", fontsize=20)\n",
    "ax.set_xlabel('District', fontsize=15)\n",
    "ax.set_ylabel('Total # of Crimes', fontsize=15)\n",
    "\n",
    "#Annotate each bar with the total count\n",
    "for p in ax.patches:\n",
    "   width, height = p.get_width(), p.get_height()\n",
    "   x,y = p.get_xy()\n",
    "   ax.annotate(f'{height}', (x+width, y+height), fontsize=10, color='black')\n",
    "###Source: https://stackoverflow.com/questions/50160788/annotate-stacked-barplot-matplotlib-and-pandas\n",
    "plt.show();"
   ]
  },
  {
   "cell_type": "markdown",
   "id": "38ac3881-65cf-4da1-b91e-b1c23aeafaf6",
   "metadata": {},
   "source": [
    "### Which district had the most crimes in 2022?"
   ]
  },
  {
   "cell_type": "markdown",
   "id": "26e47c0a-110d-423b-9b7d-d72070f5c443",
   "metadata": {},
   "source": [
    "***District 8 had the most crimes with 14,805 crimes being committed in 2022***"
   ]
  },
  {
   "cell_type": "markdown",
   "id": "77e732c1-4c47-4db5-ab92-8a19d72935f6",
   "metadata": {},
   "source": [
    "### Which had the least?"
   ]
  },
  {
   "cell_type": "markdown",
   "id": "91d64b25-d785-4627-b967-4f7febdd3c4c",
   "metadata": {},
   "source": [
    "***District 31 had the least number of crimes with only 15 crimes being committed in 2022***"
   ]
  }
 ],
 "metadata": {
  "kernelspec": {
   "display_name": "Python (dojo-env)",
   "language": "python",
   "name": "dojo-env"
  },
  "language_info": {
   "codemirror_mode": {
    "name": "ipython",
    "version": 3
   },
   "file_extension": ".py",
   "mimetype": "text/x-python",
   "name": "python",
   "nbconvert_exporter": "python",
   "pygments_lexer": "ipython3",
   "version": "3.10.13"
  },
  "widgets": {
   "application/vnd.jupyter.widget-state+json": {
    "state": {},
    "version_major": 2,
    "version_minor": 0
   }
  }
 },
 "nbformat": 4,
 "nbformat_minor": 5
}
