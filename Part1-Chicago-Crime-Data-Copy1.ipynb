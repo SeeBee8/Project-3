{
 "cells": [
  {
   "cell_type": "markdown",
   "id": "67a0536b-f826-4a5a-a1ec-0b3a411fdd2d",
   "metadata": {},
   "source": [
    "# Chicago Crime Data Analysis \n",
    "####  Part 1\n",
    "\n",
    "*Christina Brockway*"
   ]
  },
  {
   "cell_type": "code",
   "execution_count": 1,
   "id": "6146ade6-b3b6-4e7e-97cc-d137a500f2c9",
   "metadata": {},
   "outputs": [],
   "source": [
    "#!pip install holidays"
   ]
  },
  {
   "cell_type": "markdown",
   "id": "218d15af-3ac6-4594-8dc4-f938f2323f22",
   "metadata": {},
   "source": [
    "use a prepared zip file with the Chicago Crime Data:\n",
    "https://drive.google.com/file/d/1avxUlCAros-R9GF6SKXqM_GopzO7VwA5/view?usp=drive_link\n",
    "\n",
    "**Original Source is the Chicago Data Portal: Crimes 2001 to Present**"
   ]
  },
  {
   "cell_type": "markdown",
   "id": "dfec9b45-19f9-4d7b-814d-3e0e67f1876a",
   "metadata": {},
   "source": [
    "**Data Description**\n",
    "https://data.cityofchicago.org/Public-Safety/Crimes-2001-to-Present/ijzp-q8t2/data\n",
    "\n",
    "-  includes type of crime, exact data/time, lat/long, District/ward, was there an arrest,...."
   ]
  },
  {
   "cell_type": "markdown",
   "id": "88b93424-c8a9-4258-8c71-2f7aed10146b",
   "metadata": {},
   "source": [
    "### Data Dictionary\n",
    "\n",
    "Taken from: data.cityofchicago.org/Public-Safety/Crimes-2001-to-Present/"
   ]
  },
  {
   "cell_type": "markdown",
   "id": "6e645aea-521f-4c89-9cf4-9f65e1a734eb",
   "metadata": {},
   "source": [
    "<style type=\"text/css\">\r\n",
    ".tg  {border-collapse:collapse;border-spacing:0;}\r\n",
    ".tg td{border-color:black;border-style:solid;border-width:1px;font-family:Arial, sans-serif;font-size:14px;\r\n",
    "  overflow:hidden;padding:10px 5px;word-break:normal;}\r\n",
    ".tg th{border-color:black;border-style:solid;border-width:1px;font-family:Arial, sans-serif;font-size:14px;\r\n",
    "  font-weight:normal;overflow:hidden;padding:10px 5px;word-break:normal;}\r\n",
    ".tg .tg-0pky{border-color:inherit;text-align:left;vertical-align:top}\r\n",
    "</style>\r\n",
    "<table class=\"tg\">\r\n",
    "<thead>\r\n",
    "  <tr>\r\n",
    "    <th class=\"tg-0pky\"><span style=\"font-weht:bd\">**Name**</span></th>\r\n",
    "    <th class=\"tg-0pky\"><span style=\"font-wght:bd\">**dtype**</span></th>\r\n",
    "    <th class=\"tg-0pky\"><span style=\"font-ight:bold\">Description**</span></th>\r\n",
    "    <th class=\"tg-0pky\"></th>\r\n",
    "  </tr>\r\n",
    "</thead>\r\n",
    "<tbody>\r\n",
    "  <tr>\r\n",
    "    <td class=\"tg-0pky\">ID</td>\r\n",
    "    <td class=\"tg-0pky\">int64</td>\r\n",
    "    <td class=\"tg-0pky\">Unique identifier for the record</td>\r\n",
    "    <td class=\"tg-0pky\">numeric</td>\r\n",
    "  </tr>\r\n",
    "  <tr>\r\n",
    "    <td class=\"tg-0pky\">Date</td>\r\n",
    "    <td class=\"tg-0pky\">object</td>\r\n",
    "    <td class=\"tg-0pky\">Date incident occured</td>\r\n",
    "    <td class=\"tg-0pky\">date/time</td>\r\n",
    "  </tr>\r\n",
    "  <tr>\r\n",
    "    <td class=\"tg-0pky\">Primary Type</td>\r\n",
    "    <td class=\"tg-0pky\">object</td>\r\n",
    "    <td class=\"tg-0pky\">Primary description of the IL Uniform Crime Reporting code</td>\r\n",
    "    <td class=\"tg-0pky\">categorical</td>\r\n",
    "  </tr>\r\n",
    "  <tr>\r\n",
    "    <td class=\"tg-0pky\">Description</td>\r\n",
    "    <td class=\"tg-0pky\">object </td>\r\n",
    "    <td class=\"tg-0pky\">Secondary description of IUCR code</td>\r\n",
    "    <td class=\"tg-0pky\">categorical</td>\r\n",
    "  </tr>\r\n",
    "  <tr>\r\n",
    "    <td class=\"tg-0pky\">Location Description</td>\r\n",
    "    <td class=\"tg-0pky\">object </td>\r\n",
    "    <td class=\"tg-0pky\">Location where incident occurred</td>\r\n",
    "    <td class=\"tg-0pky\">categorical</td>\r\n",
    "  </tr>\r\n",
    "  <tr>\r\n",
    "    <td class=\"tg-0pky\">Arrest</td>\r\n",
    "    <td class=\"tg-0pky\">bool</td>\r\n",
    "    <td class=\"tg-0pky\">was an arrest made? </td>\r\n",
    "    <td class=\"tg-0pky\">true/false</td>\r\n",
    "  </tr>\r\n",
    "  <tr>\r\n",
    "    <td class=\"tg-0pky\">Domestic</td>\r\n",
    "    <td class=\"tg-0pky\">bool</td>\r\n",
    "    <td class=\"tg-0pky\">was the incident domestic related? </td>\r\n",
    "    <td class=\"tg-0pky\">true/false</td>\r\n",
    "  </tr>\r\n",
    "  <tr>\r\n",
    "    <td class=\"tg-0pky\">Beat</td>\r\n",
    "    <td class=\"tg-0pky\">int64</td>\r\n",
    "    <td class=\"tg-0pky\">beat where occured, Beat: smallest geo area deidcate police beat car</td>\r\n",
    "    <td class=\"tg-0pky\">numeric</td>\r\n",
    "  </tr>\r\n",
    "  <tr>\r\n",
    "    <td class=\"tg-0pky\">District</td>\r\n",
    "    <td class=\"tg-0pky\">float64</td>\r\n",
    "    <td class=\"tg-0pky\">indicates district where occured</td>\r\n",
    "    <td class=\"tg-0pky\">numeric</td>\r\n",
    "  </tr>\r\n",
    "  <tr>\r\n",
    "    <td class=\"tg-0pky\">Ward</td>\r\n",
    "    <td class=\"tg-0pky\">float64</td>\r\n",
    "    <td class=\"tg-0pky\">indicates city council district/ward where occured</td>\r\n",
    "    <td class=\"tg-0pky\">numeric</td>\r\n",
    "  </tr>\r\n",
    "  <tr>\r\n",
    "    <td class=\"tg-0pky\">Latitude</td>\r\n",
    "    <td class=\"tg-0pky\">float64 </td>\r\n",
    "    <td class=\"tg-0pky\">latitude where occured</td>\r\n",
    "    <td class=\"tg-0pky\">numeric</td>\r\n",
    "  </tr>\r\n",
    "  <tr>\r\n",
    "    <td class=\"tg-0pky\">Longitude</td>\r\n",
    "    <td class=\"tg-0pky\">float64</td>\r\n",
    "    <td class=\"tg-0pky\">longitude where occured</td>\r\n",
    "    <td class=\"tg-0pky\">numeric</td>\r\n",
    "  </tr>\r\n",
    "</tbody>\r\n",
    "</table>"
   ]
  },
  {
   "cell_type": "markdown",
   "id": "bf18c670-15d6-403a-aa55-d55782387e90",
   "metadata": {},
   "source": [
    "# Task:\n",
    "A reporter for a local newspaper has a series of questions related to crime rates in Chicago. "
   ]
  },
  {
   "cell_type": "markdown",
   "id": "01aadd4c-6976-4f2a-bd5e-a2d8593280f9",
   "metadata": {},
   "source": [
    "### Imports"
   ]
  },
  {
   "cell_type": "code",
   "execution_count": 2,
   "id": "3dceecea-a786-4266-8a78-9ef9bda57dcd",
   "metadata": {},
   "outputs": [],
   "source": [
    "import pandas as pd\n",
    "import glob\n",
    "import numpy as np\n",
    "import seaborn as sns\n",
    "import matplotlib.pyplot as plt\n",
    "import matplotlib.dates as mdates\n",
    "import matplotlib.ticker as mticks\n",
    "\n",
    "import datetime as dt\n",
    "import statsmodels.tsa.api as tsa\n",
    "\n",
    "import holidays\n",
    "from holidays import country_holidays"
   ]
  },
  {
   "cell_type": "code",
   "execution_count": 3,
   "id": "57d7439f-90a7-44c1-90f6-18bc349a1ad5",
   "metadata": {},
   "outputs": [],
   "source": [
    "sns.set_context('notebook', font_scale=0.9)\n",
    "plt.style.use(['ggplot'])"
   ]
  },
  {
   "cell_type": "markdown",
   "id": "32e4a83d-118c-48fa-b93f-0b3bae3fc66d",
   "metadata": {},
   "source": [
    "### Load Data"
   ]
  },
  {
   "cell_type": "code",
   "execution_count": 10,
   "id": "2b39174f-2766-48ea-93f1-cf863c8aefb6",
   "metadata": {},
   "outputs": [],
   "source": [
    "folder = \"data/*Crime*.csv\"\n",
    "crime_files = sorted(glob.glob(folder, recursive=True))\n",
    "df = pd.concat([pd.read_csv(f) for f in crime_files])\n",
    "\n",
    "\n",
    "# Reset index after concatenation\n",
    "df.reset_index(drop=True, inplace=True)"
   ]
  },
  {
   "cell_type": "code",
   "execution_count": 11,
   "id": "e0c6bd9e-fc29-45ab-a8c0-070dd77a2e84",
   "metadata": {
    "scrolled": true
   },
   "outputs": [
    {
     "data": {
      "text/html": [
       "<div>\n",
       "<style scoped>\n",
       "    .dataframe tbody tr th:only-of-type {\n",
       "        vertical-align: middle;\n",
       "    }\n",
       "\n",
       "    .dataframe tbody tr th {\n",
       "        vertical-align: top;\n",
       "    }\n",
       "\n",
       "    .dataframe thead th {\n",
       "        text-align: right;\n",
       "    }\n",
       "</style>\n",
       "<table border=\"1\" class=\"dataframe\">\n",
       "  <thead>\n",
       "    <tr style=\"text-align: right;\">\n",
       "      <th></th>\n",
       "      <th>Date</th>\n",
       "      <th>ID</th>\n",
       "      <th>Primary Type</th>\n",
       "      <th>Description</th>\n",
       "      <th>Location Description</th>\n",
       "      <th>Arrest</th>\n",
       "      <th>Domestic</th>\n",
       "      <th>Beat</th>\n",
       "      <th>District</th>\n",
       "      <th>Ward</th>\n",
       "      <th>Latitude</th>\n",
       "      <th>Longitude</th>\n",
       "    </tr>\n",
       "  </thead>\n",
       "  <tbody>\n",
       "    <tr>\n",
       "      <th>0</th>\n",
       "      <td>2001-01-01 01:00:00</td>\n",
       "      <td>1326041</td>\n",
       "      <td>BATTERY</td>\n",
       "      <td>SIMPLE</td>\n",
       "      <td>RESIDENCE</td>\n",
       "      <td>False</td>\n",
       "      <td>False</td>\n",
       "      <td>1624</td>\n",
       "      <td>16.0</td>\n",
       "      <td>NaN</td>\n",
       "      <td>41.957850</td>\n",
       "      <td>-87.749185</td>\n",
       "    </tr>\n",
       "    <tr>\n",
       "      <th>1</th>\n",
       "      <td>2001-01-01 01:00:00</td>\n",
       "      <td>1317937</td>\n",
       "      <td>BATTERY</td>\n",
       "      <td>SIMPLE</td>\n",
       "      <td>RESIDENCE PORCH/HALLWAY</td>\n",
       "      <td>False</td>\n",
       "      <td>False</td>\n",
       "      <td>334</td>\n",
       "      <td>3.0</td>\n",
       "      <td>NaN</td>\n",
       "      <td>41.762514</td>\n",
       "      <td>-87.565877</td>\n",
       "    </tr>\n",
       "    <tr>\n",
       "      <th>2</th>\n",
       "      <td>2001-01-01 01:00:00</td>\n",
       "      <td>1310824</td>\n",
       "      <td>THEFT</td>\n",
       "      <td>$500 AND UNDER</td>\n",
       "      <td>BAR OR TAVERN</td>\n",
       "      <td>False</td>\n",
       "      <td>False</td>\n",
       "      <td>323</td>\n",
       "      <td>3.0</td>\n",
       "      <td>NaN</td>\n",
       "      <td>41.765484</td>\n",
       "      <td>-87.621836</td>\n",
       "    </tr>\n",
       "  </tbody>\n",
       "</table>\n",
       "</div>"
      ],
      "text/plain": [
       "                  Date       ID Primary Type     Description  \\\n",
       "0  2001-01-01 01:00:00  1326041      BATTERY          SIMPLE   \n",
       "1  2001-01-01 01:00:00  1317937      BATTERY          SIMPLE   \n",
       "2  2001-01-01 01:00:00  1310824        THEFT  $500 AND UNDER   \n",
       "\n",
       "      Location Description  Arrest  Domestic  Beat  District  Ward   Latitude  \\\n",
       "0                RESIDENCE   False     False  1624      16.0   NaN  41.957850   \n",
       "1  RESIDENCE PORCH/HALLWAY   False     False   334       3.0   NaN  41.762514   \n",
       "2            BAR OR TAVERN   False     False   323       3.0   NaN  41.765484   \n",
       "\n",
       "   Longitude  \n",
       "0 -87.749185  \n",
       "1 -87.565877  \n",
       "2 -87.621836  "
      ]
     },
     "execution_count": 11,
     "metadata": {},
     "output_type": "execute_result"
    }
   ],
   "source": [
    "df.head(3).tail(3)"
   ]
  },
  {
   "cell_type": "code",
   "execution_count": 12,
   "id": "68a4310e-ac22-43a2-8efc-c1560980aa51",
   "metadata": {},
   "outputs": [
    {
     "name": "stdout",
     "output_type": "stream",
     "text": [
      "<class 'pandas.core.frame.DataFrame'>\n",
      "RangeIndex: 15426218 entries, 0 to 15426217\n",
      "Data columns (total 12 columns):\n",
      " #   Column                Dtype  \n",
      "---  ------                -----  \n",
      " 0   Date                  object \n",
      " 1   ID                    int64  \n",
      " 2   Primary Type          object \n",
      " 3   Description           object \n",
      " 4   Location Description  object \n",
      " 5   Arrest                bool   \n",
      " 6   Domestic              bool   \n",
      " 7   Beat                  int64  \n",
      " 8   District              float64\n",
      " 9   Ward                  float64\n",
      " 10  Latitude              float64\n",
      " 11  Longitude             float64\n",
      "dtypes: bool(2), float64(4), int64(2), object(4)\n",
      "memory usage: 1.2+ GB\n"
     ]
    }
   ],
   "source": [
    "df.info()"
   ]
  },
  {
   "cell_type": "code",
   "execution_count": 13,
   "id": "f6d5c521-a51d-4115-bb11-a7fc192f3bbb",
   "metadata": {},
   "outputs": [],
   "source": [
    "# Convert 'Date' column to datetime objects\n",
    "df['Datetime'] = pd.to_datetime(df['Date'])"
   ]
  },
  {
   "cell_type": "code",
   "execution_count": 14,
   "id": "475a1f7f-27e5-411f-bf0a-9f329668c348",
   "metadata": {},
   "outputs": [
    {
     "name": "stdout",
     "output_type": "stream",
     "text": [
      "<class 'pandas.core.frame.DataFrame'>\n",
      "RangeIndex: 15426218 entries, 0 to 15426217\n",
      "Data columns (total 13 columns):\n",
      " #   Column                Dtype         \n",
      "---  ------                -----         \n",
      " 0   Date                  object        \n",
      " 1   ID                    int64         \n",
      " 2   Primary Type          object        \n",
      " 3   Description           object        \n",
      " 4   Location Description  object        \n",
      " 5   Arrest                bool          \n",
      " 6   Domestic              bool          \n",
      " 7   Beat                  int64         \n",
      " 8   District              float64       \n",
      " 9   Ward                  float64       \n",
      " 10  Latitude              float64       \n",
      " 11  Longitude             float64       \n",
      " 12  Datetime              datetime64[ns]\n",
      "dtypes: bool(2), datetime64[ns](1), float64(4), int64(2), object(4)\n",
      "memory usage: 1.3+ GB\n"
     ]
    }
   ],
   "source": [
    "df.info()"
   ]
  },
  {
   "cell_type": "code",
   "execution_count": 15,
   "id": "1f3745f5-6d5b-422a-809a-656e7cf51211",
   "metadata": {},
   "outputs": [
    {
     "data": {
      "text/plain": [
       "Timestamp('2001-01-01 01:00:00')"
      ]
     },
     "execution_count": 15,
     "metadata": {},
     "output_type": "execute_result"
    }
   ],
   "source": [
    "df.loc[0,\"Datetime\"]"
   ]
  },
  {
   "cell_type": "code",
   "execution_count": null,
   "id": "6238557b-8c48-4d4d-9ece-5514eb92c267",
   "metadata": {},
   "outputs": [],
   "source": [
    "df"
   ]
  },
  {
   "cell_type": "code",
   "execution_count": 6,
   "id": "ebda2d2d-9534-46aa-b5a3-5630eb7253ea",
   "metadata": {},
   "outputs": [
    {
     "ename": "AttributeError",
     "evalue": "'str' object has no attribute 'strftime'",
     "output_type": "error",
     "traceback": [
      "\u001b[1;31m---------------------------------------------------------------------------\u001b[0m",
      "\u001b[1;31mAttributeError\u001b[0m                            Traceback (most recent call last)",
      "Cell \u001b[1;32mIn[6], line 1\u001b[0m\n\u001b[1;32m----> 1\u001b[0m df[\u001b[38;5;124m'\u001b[39m\u001b[38;5;124mDate\u001b[39m\u001b[38;5;124m'\u001b[39m] \u001b[38;5;241m=\u001b[39m \u001b[43mdf\u001b[49m\u001b[43m[\u001b[49m\u001b[38;5;124;43m'\u001b[39;49m\u001b[38;5;124;43mDate\u001b[39;49m\u001b[38;5;124;43m'\u001b[39;49m\u001b[43m]\u001b[49m\u001b[38;5;241;43m.\u001b[39;49m\u001b[43mapply\u001b[49m\u001b[43m(\u001b[49m\u001b[38;5;28;43;01mlambda\u001b[39;49;00m\u001b[43m \u001b[49m\u001b[43mx\u001b[49m\u001b[43m:\u001b[49m\u001b[43m \u001b[49m\u001b[43mx\u001b[49m\u001b[38;5;241;43m.\u001b[39;49m\u001b[43mstrftime\u001b[49m\u001b[43m(\u001b[49m\u001b[38;5;124;43m\"\u001b[39;49m\u001b[38;5;124;43m%\u001b[39;49m\u001b[38;5;124;43mY-\u001b[39;49m\u001b[38;5;124;43m%\u001b[39;49m\u001b[38;5;124;43mm-\u001b[39;49m\u001b[38;5;132;43;01m%d\u001b[39;49;00m\u001b[38;5;124;43m \u001b[39;49m\u001b[38;5;124;43m%\u001b[39;49m\u001b[38;5;124;43mH:\u001b[39;49m\u001b[38;5;124;43m%\u001b[39;49m\u001b[38;5;124;43mM:\u001b[39;49m\u001b[38;5;124;43m%\u001b[39;49m\u001b[38;5;124;43mS\u001b[39;49m\u001b[38;5;124;43m\"\u001b[39;49m\u001b[43m)\u001b[49m\u001b[43m)\u001b[49m\n",
      "File \u001b[1;32m~\\anaconda3\\envs\\dojo-env\\lib\\site-packages\\pandas\\core\\series.py:4771\u001b[0m, in \u001b[0;36mSeries.apply\u001b[1;34m(self, func, convert_dtype, args, **kwargs)\u001b[0m\n\u001b[0;32m   4661\u001b[0m \u001b[38;5;28;01mdef\u001b[39;00m \u001b[38;5;21mapply\u001b[39m(\n\u001b[0;32m   4662\u001b[0m     \u001b[38;5;28mself\u001b[39m,\n\u001b[0;32m   4663\u001b[0m     func: AggFuncType,\n\u001b[1;32m   (...)\u001b[0m\n\u001b[0;32m   4666\u001b[0m     \u001b[38;5;241m*\u001b[39m\u001b[38;5;241m*\u001b[39mkwargs,\n\u001b[0;32m   4667\u001b[0m ) \u001b[38;5;241m-\u001b[39m\u001b[38;5;241m>\u001b[39m DataFrame \u001b[38;5;241m|\u001b[39m Series:\n\u001b[0;32m   4668\u001b[0m \u001b[38;5;250m    \u001b[39m\u001b[38;5;124;03m\"\"\"\u001b[39;00m\n\u001b[0;32m   4669\u001b[0m \u001b[38;5;124;03m    Invoke function on values of Series.\u001b[39;00m\n\u001b[0;32m   4670\u001b[0m \n\u001b[1;32m   (...)\u001b[0m\n\u001b[0;32m   4769\u001b[0m \u001b[38;5;124;03m    dtype: float64\u001b[39;00m\n\u001b[0;32m   4770\u001b[0m \u001b[38;5;124;03m    \"\"\"\u001b[39;00m\n\u001b[1;32m-> 4771\u001b[0m     \u001b[38;5;28;01mreturn\u001b[39;00m \u001b[43mSeriesApply\u001b[49m\u001b[43m(\u001b[49m\u001b[38;5;28;43mself\u001b[39;49m\u001b[43m,\u001b[49m\u001b[43m \u001b[49m\u001b[43mfunc\u001b[49m\u001b[43m,\u001b[49m\u001b[43m \u001b[49m\u001b[43mconvert_dtype\u001b[49m\u001b[43m,\u001b[49m\u001b[43m \u001b[49m\u001b[43margs\u001b[49m\u001b[43m,\u001b[49m\u001b[43m \u001b[49m\u001b[43mkwargs\u001b[49m\u001b[43m)\u001b[49m\u001b[38;5;241;43m.\u001b[39;49m\u001b[43mapply\u001b[49m\u001b[43m(\u001b[49m\u001b[43m)\u001b[49m\n",
      "File \u001b[1;32m~\\anaconda3\\envs\\dojo-env\\lib\\site-packages\\pandas\\core\\apply.py:1123\u001b[0m, in \u001b[0;36mSeriesApply.apply\u001b[1;34m(self)\u001b[0m\n\u001b[0;32m   1120\u001b[0m     \u001b[38;5;28;01mreturn\u001b[39;00m \u001b[38;5;28mself\u001b[39m\u001b[38;5;241m.\u001b[39mapply_str()\n\u001b[0;32m   1122\u001b[0m \u001b[38;5;66;03m# self.f is Callable\u001b[39;00m\n\u001b[1;32m-> 1123\u001b[0m \u001b[38;5;28;01mreturn\u001b[39;00m \u001b[38;5;28;43mself\u001b[39;49m\u001b[38;5;241;43m.\u001b[39;49m\u001b[43mapply_standard\u001b[49m\u001b[43m(\u001b[49m\u001b[43m)\u001b[49m\n",
      "File \u001b[1;32m~\\anaconda3\\envs\\dojo-env\\lib\\site-packages\\pandas\\core\\apply.py:1174\u001b[0m, in \u001b[0;36mSeriesApply.apply_standard\u001b[1;34m(self)\u001b[0m\n\u001b[0;32m   1172\u001b[0m     \u001b[38;5;28;01melse\u001b[39;00m:\n\u001b[0;32m   1173\u001b[0m         values \u001b[38;5;241m=\u001b[39m obj\u001b[38;5;241m.\u001b[39mastype(\u001b[38;5;28mobject\u001b[39m)\u001b[38;5;241m.\u001b[39m_values\n\u001b[1;32m-> 1174\u001b[0m         mapped \u001b[38;5;241m=\u001b[39m \u001b[43mlib\u001b[49m\u001b[38;5;241;43m.\u001b[39;49m\u001b[43mmap_infer\u001b[49m\u001b[43m(\u001b[49m\n\u001b[0;32m   1175\u001b[0m \u001b[43m            \u001b[49m\u001b[43mvalues\u001b[49m\u001b[43m,\u001b[49m\n\u001b[0;32m   1176\u001b[0m \u001b[43m            \u001b[49m\u001b[43mf\u001b[49m\u001b[43m,\u001b[49m\n\u001b[0;32m   1177\u001b[0m \u001b[43m            \u001b[49m\u001b[43mconvert\u001b[49m\u001b[38;5;241;43m=\u001b[39;49m\u001b[38;5;28;43mself\u001b[39;49m\u001b[38;5;241;43m.\u001b[39;49m\u001b[43mconvert_dtype\u001b[49m\u001b[43m,\u001b[49m\n\u001b[0;32m   1178\u001b[0m \u001b[43m        \u001b[49m\u001b[43m)\u001b[49m\n\u001b[0;32m   1180\u001b[0m \u001b[38;5;28;01mif\u001b[39;00m \u001b[38;5;28mlen\u001b[39m(mapped) \u001b[38;5;129;01mand\u001b[39;00m \u001b[38;5;28misinstance\u001b[39m(mapped[\u001b[38;5;241m0\u001b[39m], ABCSeries):\n\u001b[0;32m   1181\u001b[0m     \u001b[38;5;66;03m# GH#43986 Need to do list(mapped) in order to get treated as nested\u001b[39;00m\n\u001b[0;32m   1182\u001b[0m     \u001b[38;5;66;03m#  See also GH#25959 regarding EA support\u001b[39;00m\n\u001b[0;32m   1183\u001b[0m     \u001b[38;5;28;01mreturn\u001b[39;00m obj\u001b[38;5;241m.\u001b[39m_constructor_expanddim(\u001b[38;5;28mlist\u001b[39m(mapped), index\u001b[38;5;241m=\u001b[39mobj\u001b[38;5;241m.\u001b[39mindex)\n",
      "File \u001b[1;32m~\\anaconda3\\envs\\dojo-env\\lib\\site-packages\\pandas\\_libs\\lib.pyx:2924\u001b[0m, in \u001b[0;36mpandas._libs.lib.map_infer\u001b[1;34m()\u001b[0m\n",
      "Cell \u001b[1;32mIn[6], line 1\u001b[0m, in \u001b[0;36m<lambda>\u001b[1;34m(x)\u001b[0m\n\u001b[1;32m----> 1\u001b[0m df[\u001b[38;5;124m'\u001b[39m\u001b[38;5;124mDate\u001b[39m\u001b[38;5;124m'\u001b[39m] \u001b[38;5;241m=\u001b[39m df[\u001b[38;5;124m'\u001b[39m\u001b[38;5;124mDate\u001b[39m\u001b[38;5;124m'\u001b[39m]\u001b[38;5;241m.\u001b[39mapply(\u001b[38;5;28;01mlambda\u001b[39;00m x: \u001b[43mx\u001b[49m\u001b[38;5;241;43m.\u001b[39;49m\u001b[43mstrftime\u001b[49m(\u001b[38;5;124m\"\u001b[39m\u001b[38;5;124m%\u001b[39m\u001b[38;5;124mY-\u001b[39m\u001b[38;5;124m%\u001b[39m\u001b[38;5;124mm-\u001b[39m\u001b[38;5;132;01m%d\u001b[39;00m\u001b[38;5;124m \u001b[39m\u001b[38;5;124m%\u001b[39m\u001b[38;5;124mH:\u001b[39m\u001b[38;5;124m%\u001b[39m\u001b[38;5;124mM:\u001b[39m\u001b[38;5;124m%\u001b[39m\u001b[38;5;124mS\u001b[39m\u001b[38;5;124m\"\u001b[39m))\n",
      "\u001b[1;31mAttributeError\u001b[0m: 'str' object has no attribute 'strftime'"
     ]
    }
   ],
   "source": [
    "# Define a list of possible date formats\n",
    "date_formats = [\"%Y-%m-%d\", \"%m/%d/%Y\", \"%m-%d-%Y\", \"%Y%m%d\", \"%m%d%Y\", \"%Y/%m/%d\", \"%m/%d/%y\", \"%d-%m-%Y\"]\n",
    "\n",
    "# Custom function to parse dates with multiple formats\n",
    "def parse_date(date_str):\n",
    "    for fmt in date_formats:\n",
    "        try:\n",
    "            return pd.to_datetime(date_str, format=fmt)\n",
    "        except ValueError:\n",
    "            pass\n",
    "    # Return NaT if no format matches\n",
    "    return pd.NaT"
   ]
  },
  {
   "cell_type": "code",
   "execution_count": 16,
   "id": "b5cf3f64-84db-4917-9a6a-8a35563fc286",
   "metadata": {},
   "outputs": [
    {
     "data": {
      "text/plain": [
       "Date                          0\n",
       "ID                            0\n",
       "Primary Type                  0\n",
       "Description                   0\n",
       "Location Description      21856\n",
       "Arrest                        0\n",
       "Domestic                      0\n",
       "Beat                          0\n",
       "District                     94\n",
       "Ward                    1229692\n",
       "Latitude                 177370\n",
       "Longitude                177370\n",
       "Datetime                      0\n",
       "dtype: int64"
      ]
     },
     "execution_count": 16,
     "metadata": {},
     "output_type": "execute_result"
    }
   ],
   "source": [
    "ts = df.copy()\n",
    "ts.isna().sum()"
   ]
  },
  {
   "cell_type": "code",
   "execution_count": 17,
   "id": "eb3cda5b-a59f-4e57-ae11-19aef75ed890",
   "metadata": {},
   "outputs": [
    {
     "name": "stdout",
     "output_type": "stream",
     "text": [
      "<class 'pandas.core.frame.DataFrame'>\n",
      "RangeIndex: 15426218 entries, 0 to 15426217\n",
      "Data columns (total 10 columns):\n",
      " #   Column                Dtype         \n",
      "---  ------                -----         \n",
      " 0   Date                  object        \n",
      " 1   ID                    int64         \n",
      " 2   Primary Type          object        \n",
      " 3   Description           object        \n",
      " 4   Location Description  object        \n",
      " 5   Arrest                bool          \n",
      " 6   Domestic              bool          \n",
      " 7   Beat                  int64         \n",
      " 8   District              float64       \n",
      " 9   Datetime              datetime64[ns]\n",
      "dtypes: bool(2), datetime64[ns](1), float64(1), int64(2), object(4)\n",
      "memory usage: 971.0+ MB\n"
     ]
    }
   ],
   "source": [
    "\n",
    "ts=ts.drop(columns = [\"Ward\", \"Latitude\", \"Longitude\"])\n",
    "ts.info()"
   ]
  },
  {
   "cell_type": "code",
   "execution_count": 18,
   "id": "4c95c037-27dc-4370-b3ac-19e868806a52",
   "metadata": {},
   "outputs": [
    {
     "data": {
      "text/plain": [
       "0"
      ]
     },
     "execution_count": 18,
     "metadata": {},
     "output_type": "execute_result"
    }
   ],
   "source": [
    "ts.duplicated().sum()"
   ]
  },
  {
   "cell_type": "code",
   "execution_count": 23,
   "id": "d474c4f5-60e5-4ea0-8c32-364c0045d734",
   "metadata": {},
   "outputs": [],
   "source": [
    "ts['Year']=ts['Datetime'].dt.year"
   ]
  },
  {
   "cell_type": "code",
   "execution_count": 24,
   "id": "83fda616-2fa5-4950-a444-9ae95c0ae029",
   "metadata": {},
   "outputs": [],
   "source": [
    "ts['Month']=ts['Datetime'].dt.month"
   ]
  },
  {
   "cell_type": "code",
   "execution_count": 25,
   "id": "9782cd32-5dd7-48f4-bfb7-2486d2ad1213",
   "metadata": {},
   "outputs": [
    {
     "name": "stdout",
     "output_type": "stream",
     "text": [
      "<class 'pandas.core.frame.DataFrame'>\n",
      "RangeIndex: 15426218 entries, 0 to 15426217\n",
      "Data columns (total 12 columns):\n",
      " #   Column                Dtype         \n",
      "---  ------                -----         \n",
      " 0   Date                  object        \n",
      " 1   ID                    int64         \n",
      " 2   Primary Type          object        \n",
      " 3   Description           object        \n",
      " 4   Location Description  object        \n",
      " 5   Arrest                bool          \n",
      " 6   Domestic              bool          \n",
      " 7   Beat                  int64         \n",
      " 8   District              float64       \n",
      " 9   Datetime              datetime64[ns]\n",
      " 10  Year                  int64         \n",
      " 11  Month                 int64         \n",
      "dtypes: bool(2), datetime64[ns](1), float64(1), int64(4), object(4)\n",
      "memory usage: 1.2+ GB\n"
     ]
    }
   ],
   "source": [
    "ts.info()"
   ]
  },
  {
   "cell_type": "code",
   "execution_count": 35,
   "id": "7bc731ff-048a-4d34-b05f-7aa38ed00b8d",
   "metadata": {},
   "outputs": [
    {
     "data": {
      "text/html": [
       "<div>\n",
       "<style scoped>\n",
       "    .dataframe tbody tr th:only-of-type {\n",
       "        vertical-align: middle;\n",
       "    }\n",
       "\n",
       "    .dataframe tbody tr th {\n",
       "        vertical-align: top;\n",
       "    }\n",
       "\n",
       "    .dataframe thead th {\n",
       "        text-align: right;\n",
       "    }\n",
       "</style>\n",
       "<table border=\"1\" class=\"dataframe\">\n",
       "  <thead>\n",
       "    <tr style=\"text-align: right;\">\n",
       "      <th></th>\n",
       "      <th>Date</th>\n",
       "      <th>ID</th>\n",
       "      <th>Primary Type</th>\n",
       "      <th>Description</th>\n",
       "      <th>Location Description</th>\n",
       "      <th>Arrest</th>\n",
       "      <th>Domestic</th>\n",
       "      <th>Beat</th>\n",
       "      <th>District</th>\n",
       "      <th>Datetime</th>\n",
       "      <th>Year</th>\n",
       "      <th>Month</th>\n",
       "    </tr>\n",
       "  </thead>\n",
       "  <tbody>\n",
       "    <tr>\n",
       "      <th>0</th>\n",
       "      <td>2001-01-01 01:00:00</td>\n",
       "      <td>1326041</td>\n",
       "      <td>BATTERY</td>\n",
       "      <td>SIMPLE</td>\n",
       "      <td>RESIDENCE</td>\n",
       "      <td>False</td>\n",
       "      <td>False</td>\n",
       "      <td>1624</td>\n",
       "      <td>16.0</td>\n",
       "      <td>2001-01-01 01:00:00</td>\n",
       "      <td>2001</td>\n",
       "      <td>1</td>\n",
       "    </tr>\n",
       "    <tr>\n",
       "      <th>1</th>\n",
       "      <td>2001-01-01 01:00:00</td>\n",
       "      <td>1317937</td>\n",
       "      <td>BATTERY</td>\n",
       "      <td>SIMPLE</td>\n",
       "      <td>RESIDENCE PORCH/HALLWAY</td>\n",
       "      <td>False</td>\n",
       "      <td>False</td>\n",
       "      <td>334</td>\n",
       "      <td>3.0</td>\n",
       "      <td>2001-01-01 01:00:00</td>\n",
       "      <td>2001</td>\n",
       "      <td>1</td>\n",
       "    </tr>\n",
       "    <tr>\n",
       "      <th>2</th>\n",
       "      <td>2001-01-01 01:00:00</td>\n",
       "      <td>1310824</td>\n",
       "      <td>THEFT</td>\n",
       "      <td>$500 AND UNDER</td>\n",
       "      <td>BAR OR TAVERN</td>\n",
       "      <td>False</td>\n",
       "      <td>False</td>\n",
       "      <td>323</td>\n",
       "      <td>3.0</td>\n",
       "      <td>2001-01-01 01:00:00</td>\n",
       "      <td>2001</td>\n",
       "      <td>1</td>\n",
       "    </tr>\n",
       "    <tr>\n",
       "      <th>3</th>\n",
       "      <td>2001-01-01 01:00:00</td>\n",
       "      <td>1313086</td>\n",
       "      <td>THEFT</td>\n",
       "      <td>OVER $500</td>\n",
       "      <td>OTHER</td>\n",
       "      <td>False</td>\n",
       "      <td>False</td>\n",
       "      <td>1732</td>\n",
       "      <td>17.0</td>\n",
       "      <td>2001-01-01 01:00:00</td>\n",
       "      <td>2001</td>\n",
       "      <td>1</td>\n",
       "    </tr>\n",
       "    <tr>\n",
       "      <th>4</th>\n",
       "      <td>2001-01-01 01:00:00</td>\n",
       "      <td>1310858</td>\n",
       "      <td>OTHER OFFENSE</td>\n",
       "      <td>TELEPHONE THREAT</td>\n",
       "      <td>RESIDENCE</td>\n",
       "      <td>False</td>\n",
       "      <td>False</td>\n",
       "      <td>1724</td>\n",
       "      <td>17.0</td>\n",
       "      <td>2001-01-01 01:00:00</td>\n",
       "      <td>2001</td>\n",
       "      <td>1</td>\n",
       "    </tr>\n",
       "  </tbody>\n",
       "</table>\n",
       "</div>"
      ],
      "text/plain": [
       "                  Date       ID   Primary Type       Description  \\\n",
       "0  2001-01-01 01:00:00  1326041        BATTERY            SIMPLE   \n",
       "1  2001-01-01 01:00:00  1317937        BATTERY            SIMPLE   \n",
       "2  2001-01-01 01:00:00  1310824          THEFT    $500 AND UNDER   \n",
       "3  2001-01-01 01:00:00  1313086          THEFT         OVER $500   \n",
       "4  2001-01-01 01:00:00  1310858  OTHER OFFENSE  TELEPHONE THREAT   \n",
       "\n",
       "      Location Description  Arrest  Domestic  Beat  District  \\\n",
       "0                RESIDENCE   False     False  1624      16.0   \n",
       "1  RESIDENCE PORCH/HALLWAY   False     False   334       3.0   \n",
       "2            BAR OR TAVERN   False     False   323       3.0   \n",
       "3                    OTHER   False     False  1732      17.0   \n",
       "4                RESIDENCE   False     False  1724      17.0   \n",
       "\n",
       "             Datetime  Year  Month  \n",
       "0 2001-01-01 01:00:00  2001      1  \n",
       "1 2001-01-01 01:00:00  2001      1  \n",
       "2 2001-01-01 01:00:00  2001      1  \n",
       "3 2001-01-01 01:00:00  2001      1  \n",
       "4 2001-01-01 01:00:00  2001      1  "
      ]
     },
     "execution_count": 35,
     "metadata": {},
     "output_type": "execute_result"
    }
   ],
   "source": [
    "ts.head()"
   ]
  },
  {
   "cell_type": "code",
   "execution_count": 36,
   "id": "03a83bf7-4f19-4220-8d2b-876d648dd288",
   "metadata": {},
   "outputs": [
    {
     "data": {
      "text/html": [
       "<div>\n",
       "<style scoped>\n",
       "    .dataframe tbody tr th:only-of-type {\n",
       "        vertical-align: middle;\n",
       "    }\n",
       "\n",
       "    .dataframe tbody tr th {\n",
       "        vertical-align: top;\n",
       "    }\n",
       "\n",
       "    .dataframe thead th {\n",
       "        text-align: right;\n",
       "    }\n",
       "</style>\n",
       "<table border=\"1\" class=\"dataframe\">\n",
       "  <thead>\n",
       "    <tr style=\"text-align: right;\">\n",
       "      <th></th>\n",
       "      <th>Date</th>\n",
       "      <th>ID</th>\n",
       "      <th>Primary Type</th>\n",
       "      <th>Description</th>\n",
       "      <th>Location Description</th>\n",
       "      <th>Arrest</th>\n",
       "      <th>Domestic</th>\n",
       "      <th>Beat</th>\n",
       "      <th>District</th>\n",
       "      <th>Datetime</th>\n",
       "      <th>Year</th>\n",
       "      <th>Month</th>\n",
       "    </tr>\n",
       "  </thead>\n",
       "  <tbody>\n",
       "    <tr>\n",
       "      <th>15426213</th>\n",
       "      <td>12/31/2022 12:50:00 PM</td>\n",
       "      <td>12938029</td>\n",
       "      <td>ASSAULT</td>\n",
       "      <td>SIMPLE</td>\n",
       "      <td>APARTMENT</td>\n",
       "      <td>False</td>\n",
       "      <td>False</td>\n",
       "      <td>1014</td>\n",
       "      <td>10.0</td>\n",
       "      <td>2022-12-31 12:50:00</td>\n",
       "      <td>2022</td>\n",
       "      <td>12</td>\n",
       "    </tr>\n",
       "    <tr>\n",
       "      <th>15426214</th>\n",
       "      <td>12/31/2022 12:50:00 PM</td>\n",
       "      <td>12937822</td>\n",
       "      <td>ASSAULT</td>\n",
       "      <td>AGGRAVATED - HANDGUN</td>\n",
       "      <td>APARTMENT</td>\n",
       "      <td>False</td>\n",
       "      <td>True</td>\n",
       "      <td>733</td>\n",
       "      <td>7.0</td>\n",
       "      <td>2022-12-31 12:50:00</td>\n",
       "      <td>2022</td>\n",
       "      <td>12</td>\n",
       "    </tr>\n",
       "    <tr>\n",
       "      <th>15426215</th>\n",
       "      <td>12/31/2022 12:52:00 AM</td>\n",
       "      <td>12937583</td>\n",
       "      <td>BATTERY</td>\n",
       "      <td>SIMPLE</td>\n",
       "      <td>BARBERSHOP</td>\n",
       "      <td>False</td>\n",
       "      <td>False</td>\n",
       "      <td>1135</td>\n",
       "      <td>11.0</td>\n",
       "      <td>2022-12-31 00:52:00</td>\n",
       "      <td>2022</td>\n",
       "      <td>12</td>\n",
       "    </tr>\n",
       "    <tr>\n",
       "      <th>15426216</th>\n",
       "      <td>12/31/2022 12:52:00 PM</td>\n",
       "      <td>12938420</td>\n",
       "      <td>ASSAULT</td>\n",
       "      <td>SIMPLE</td>\n",
       "      <td>COMMERCIAL / BUSINESS OFFICE</td>\n",
       "      <td>False</td>\n",
       "      <td>False</td>\n",
       "      <td>1432</td>\n",
       "      <td>14.0</td>\n",
       "      <td>2022-12-31 12:52:00</td>\n",
       "      <td>2022</td>\n",
       "      <td>12</td>\n",
       "    </tr>\n",
       "    <tr>\n",
       "      <th>15426217</th>\n",
       "      <td>12/31/2022 12:59:00 PM</td>\n",
       "      <td>12939906</td>\n",
       "      <td>DECEPTIVE PRACTICE</td>\n",
       "      <td>FINANCIAL IDENTITY THEFT $300 AND UNDER</td>\n",
       "      <td>RESIDENCE</td>\n",
       "      <td>False</td>\n",
       "      <td>False</td>\n",
       "      <td>1511</td>\n",
       "      <td>15.0</td>\n",
       "      <td>2022-12-31 12:59:00</td>\n",
       "      <td>2022</td>\n",
       "      <td>12</td>\n",
       "    </tr>\n",
       "  </tbody>\n",
       "</table>\n",
       "</div>"
      ],
      "text/plain": [
       "                            Date        ID        Primary Type  \\\n",
       "15426213  12/31/2022 12:50:00 PM  12938029             ASSAULT   \n",
       "15426214  12/31/2022 12:50:00 PM  12937822             ASSAULT   \n",
       "15426215  12/31/2022 12:52:00 AM  12937583             BATTERY   \n",
       "15426216  12/31/2022 12:52:00 PM  12938420             ASSAULT   \n",
       "15426217  12/31/2022 12:59:00 PM  12939906  DECEPTIVE PRACTICE   \n",
       "\n",
       "                                      Description  \\\n",
       "15426213                                   SIMPLE   \n",
       "15426214                     AGGRAVATED - HANDGUN   \n",
       "15426215                                   SIMPLE   \n",
       "15426216                                   SIMPLE   \n",
       "15426217  FINANCIAL IDENTITY THEFT $300 AND UNDER   \n",
       "\n",
       "                  Location Description  Arrest  Domestic  Beat  District  \\\n",
       "15426213                     APARTMENT   False     False  1014      10.0   \n",
       "15426214                     APARTMENT   False      True   733       7.0   \n",
       "15426215                    BARBERSHOP   False     False  1135      11.0   \n",
       "15426216  COMMERCIAL / BUSINESS OFFICE   False     False  1432      14.0   \n",
       "15426217                     RESIDENCE   False     False  1511      15.0   \n",
       "\n",
       "                    Datetime  Year  Month  \n",
       "15426213 2022-12-31 12:50:00  2022     12  \n",
       "15426214 2022-12-31 12:50:00  2022     12  \n",
       "15426215 2022-12-31 00:52:00  2022     12  \n",
       "15426216 2022-12-31 12:52:00  2022     12  \n",
       "15426217 2022-12-31 12:59:00  2022     12  "
      ]
     },
     "execution_count": 36,
     "metadata": {},
     "output_type": "execute_result"
    }
   ],
   "source": [
    "ts.tail()"
   ]
  },
  {
   "cell_type": "code",
   "execution_count": 39,
   "id": "0ee5d5a6-8b35-40e5-9309-a03c82c9022a",
   "metadata": {},
   "outputs": [
    {
     "data": {
      "text/html": [
       "<div>\n",
       "<style scoped>\n",
       "    .dataframe tbody tr th:only-of-type {\n",
       "        vertical-align: middle;\n",
       "    }\n",
       "\n",
       "    .dataframe tbody tr th {\n",
       "        vertical-align: top;\n",
       "    }\n",
       "\n",
       "    .dataframe thead th {\n",
       "        text-align: right;\n",
       "    }\n",
       "</style>\n",
       "<table border=\"1\" class=\"dataframe\">\n",
       "  <thead>\n",
       "    <tr style=\"text-align: right;\">\n",
       "      <th></th>\n",
       "      <th>Date</th>\n",
       "      <th>ID</th>\n",
       "      <th>Primary Type</th>\n",
       "      <th>Description</th>\n",
       "      <th>Location Description</th>\n",
       "      <th>Arrest</th>\n",
       "      <th>Domestic</th>\n",
       "      <th>Beat</th>\n",
       "      <th>District</th>\n",
       "      <th>Year</th>\n",
       "      <th>Month</th>\n",
       "    </tr>\n",
       "    <tr>\n",
       "      <th>Datetime</th>\n",
       "      <th></th>\n",
       "      <th></th>\n",
       "      <th></th>\n",
       "      <th></th>\n",
       "      <th></th>\n",
       "      <th></th>\n",
       "      <th></th>\n",
       "      <th></th>\n",
       "      <th></th>\n",
       "      <th></th>\n",
       "      <th></th>\n",
       "    </tr>\n",
       "  </thead>\n",
       "  <tbody>\n",
       "    <tr>\n",
       "      <th>2001-01-01 01:00:00</th>\n",
       "      <td>2001-01-01 01:00:00</td>\n",
       "      <td>1326041</td>\n",
       "      <td>BATTERY</td>\n",
       "      <td>SIMPLE</td>\n",
       "      <td>RESIDENCE</td>\n",
       "      <td>False</td>\n",
       "      <td>False</td>\n",
       "      <td>1624</td>\n",
       "      <td>16.0</td>\n",
       "      <td>2001</td>\n",
       "      <td>1</td>\n",
       "    </tr>\n",
       "    <tr>\n",
       "      <th>2001-01-01 01:00:00</th>\n",
       "      <td>2001-01-01 01:00:00</td>\n",
       "      <td>1317937</td>\n",
       "      <td>BATTERY</td>\n",
       "      <td>SIMPLE</td>\n",
       "      <td>RESIDENCE PORCH/HALLWAY</td>\n",
       "      <td>False</td>\n",
       "      <td>False</td>\n",
       "      <td>334</td>\n",
       "      <td>3.0</td>\n",
       "      <td>2001</td>\n",
       "      <td>1</td>\n",
       "    </tr>\n",
       "  </tbody>\n",
       "</table>\n",
       "</div>"
      ],
      "text/plain": [
       "                                    Date       ID Primary Type Description  \\\n",
       "Datetime                                                                     \n",
       "2001-01-01 01:00:00  2001-01-01 01:00:00  1326041      BATTERY      SIMPLE   \n",
       "2001-01-01 01:00:00  2001-01-01 01:00:00  1317937      BATTERY      SIMPLE   \n",
       "\n",
       "                        Location Description  Arrest  Domestic  Beat  \\\n",
       "Datetime                                                               \n",
       "2001-01-01 01:00:00                RESIDENCE   False     False  1624   \n",
       "2001-01-01 01:00:00  RESIDENCE PORCH/HALLWAY   False     False   334   \n",
       "\n",
       "                     District  Year  Month  \n",
       "Datetime                                    \n",
       "2001-01-01 01:00:00      16.0  2001      1  \n",
       "2001-01-01 01:00:00       3.0  2001      1  "
      ]
     },
     "execution_count": 39,
     "metadata": {},
     "output_type": "execute_result"
    }
   ],
   "source": [
    "#Set index column to datetime\n",
    "ts = ts.set_index('Datetime')\n",
    "ts.head(2)\n"
   ]
  },
  {
   "cell_type": "code",
   "execution_count": 40,
   "id": "0cc24030-013f-4a63-b108-1052987492c9",
   "metadata": {},
   "outputs": [
    {
     "name": "stdout",
     "output_type": "stream",
     "text": [
      "DatetimeIndex(['2001-01-01 01:00:00', '2001-01-01 01:00:00',\n",
      "               '2001-01-01 01:00:00', '2001-01-01 01:00:00',\n",
      "               '2001-01-01 01:00:00', '2001-01-01 01:00:00',\n",
      "               '2001-01-01 01:00:00', '2001-01-01 01:00:00',\n",
      "               '2001-01-01 01:00:00', '2001-01-01 01:00:00',\n",
      "               ...\n",
      "               '2022-12-31 12:41:00', '2022-12-31 00:42:00',\n",
      "               '2022-12-31 00:44:00', '2022-12-31 00:45:00',\n",
      "               '2022-12-31 12:45:00', '2022-12-31 12:50:00',\n",
      "               '2022-12-31 12:50:00', '2022-12-31 00:52:00',\n",
      "               '2022-12-31 12:52:00', '2022-12-31 12:59:00'],\n",
      "              dtype='datetime64[ns]', name='Datetime', length=15426218, freq=None)\n",
      "False\n",
      "True\n"
     ]
    }
   ],
   "source": [
    "# Confirm the type of the index\n",
    "print(ts.index)\n",
    "\n",
    "# Ensure that the index is sorted chronologically\n",
    "print(ts.index.is_monotonic_increasing)\n",
    "\n",
    "# Check for duplicate datetime values in the index\n",
    "print(ts.index.duplicated().any())\n"
   ]
  },
  {
   "cell_type": "code",
   "execution_count": 42,
   "id": "62dd1224-c479-40e5-86a9-7ac12922e11b",
   "metadata": {},
   "outputs": [
    {
     "name": "stdout",
     "output_type": "stream",
     "text": [
      "True\n"
     ]
    }
   ],
   "source": [
    "ts.sort_index(inplace=True)\n",
    "\n",
    "# Ensure that the index is sorted chronologically\n",
    "print(ts.index.is_monotonic_increasing)"
   ]
  },
  {
   "cell_type": "markdown",
   "id": "c70c8b4d-98c5-4b84-9e6e-ea0eed03a144",
   "metadata": {},
   "source": [
    "## Senario 1:  Comparing Crimes Across the Years"
   ]
  },
  {
   "cell_type": "markdown",
   "id": "1ca1a230-137a-4fb6-8545-61d0b59734b8",
   "metadata": {},
   "source": [
    "-  Looking at crimes from 2001 to 2022, is there an increase or decrease in the overall crime rate?\n",
    "-  Are there any individual crimes that are going the opposite of the trend?"
   ]
  },
  {
   "cell_type": "markdown",
   "id": "c94a64ca-65f2-4391-91bd-9636dbe16802",
   "metadata": {},
   "source": [
    "**ToDo:**\n",
    "- isolate columns for years\n",
    "- ```.size``` for total number of crimes\n",
    "- make a visualization of the crimes\n",
    "                 "
   ]
  },
  {
   "cell_type": "code",
   "execution_count": 43,
   "id": "0808315f-7591-40b3-9e5b-d9b2acf90773",
   "metadata": {},
   "outputs": [
    {
     "data": {
      "text/plain": [
       "Year\n",
       "2001    971772\n",
       "2002    973614\n",
       "dtype: int64"
      ]
     },
     "execution_count": 43,
     "metadata": {},
     "output_type": "execute_result"
    }
   ],
   "source": [
    "crimes_by_year = ts.groupby('Year').size()\n",
    "crimes_by_year.head(2)"
   ]
  },
  {
   "cell_type": "code",
   "execution_count": 44,
   "id": "da8d1aa1-220a-4022-a595-8946d56793e0",
   "metadata": {},
   "outputs": [
    {
     "data": {
      "image/png": "[encoded data removed]",
      "text/plain": [
       "<Figure size 1200x500 with 1 Axes>"
      ]
     },
     "metadata": {},
     "output_type": "display_data"
    }
   ],
   "source": [
    "ax = plt.figure(figsize=(12,5))\n",
    "ax= crimes_by_year.plot(kind='bar', legend=False,\n",
    "                              title='Total Number of Crimes by Year', ylabel='# of Crimes')\n",
    "ax.set_xticks(ax.get_xticks())\n",
    "ax.set_xticklabels(ax.get_xticklabels(),fontsize='large', fontweight='bold');"
   ]
  },
  {
   "cell_type": "markdown",
   "id": "ff05131f-3bc8-49de-9701-b67616a07d8f",
   "metadata": {},
   "source": [
    "### Is the total number of crimes increasing/decreasing across the years?\n",
    "***Overall the total number of crimes is decreasing across the years***\n",
    "\n"
   ]
  },
  {
   "cell_type": "markdown",
   "id": "fa0689a4-9fb7-4789-8e3d-bc14888883ca",
   "metadata": {},
   "source": [
    "#### Are there any individual crimes that are doing the opposite?"
   ]
  },
  {
   "cell_type": "code",
   "execution_count": 46,
   "id": "a21c326e-d8d8-44ec-b3c4-62edf6cca449",
   "metadata": {},
   "outputs": [
    {
     "data": {
      "text/html": [
       "<div>\n",
       "<style scoped>\n",
       "    .dataframe tbody tr th:only-of-type {\n",
       "        vertical-align: middle;\n",
       "    }\n",
       "\n",
       "    .dataframe tbody tr th {\n",
       "        vertical-align: top;\n",
       "    }\n",
       "\n",
       "    .dataframe thead th {\n",
       "        text-align: right;\n",
       "    }\n",
       "</style>\n",
       "<table border=\"1\" class=\"dataframe\">\n",
       "  <thead>\n",
       "    <tr style=\"text-align: right;\">\n",
       "      <th></th>\n",
       "      <th>Date</th>\n",
       "      <th>ID</th>\n",
       "      <th>Primary Type</th>\n",
       "      <th>Description</th>\n",
       "      <th>Location Description</th>\n",
       "      <th>Arrest</th>\n",
       "      <th>Domestic</th>\n",
       "      <th>Beat</th>\n",
       "      <th>District</th>\n",
       "      <th>Year</th>\n",
       "      <th>Month</th>\n",
       "    </tr>\n",
       "    <tr>\n",
       "      <th>Datetime</th>\n",
       "      <th></th>\n",
       "      <th></th>\n",
       "      <th></th>\n",
       "      <th></th>\n",
       "      <th></th>\n",
       "      <th></th>\n",
       "      <th></th>\n",
       "      <th></th>\n",
       "      <th></th>\n",
       "      <th></th>\n",
       "      <th></th>\n",
       "    </tr>\n",
       "  </thead>\n",
       "  <tbody>\n",
       "    <tr>\n",
       "      <th>2001-01-01</th>\n",
       "      <td>01/01/2001 12:00:00 AM</td>\n",
       "      <td>2280620</td>\n",
       "      <td>THEFT</td>\n",
       "      <td>FINANCIAL ID THEFT: OVER $300</td>\n",
       "      <td>RESIDENCE</td>\n",
       "      <td>False</td>\n",
       "      <td>False</td>\n",
       "      <td>915</td>\n",
       "      <td>9.0</td>\n",
       "      <td>2001</td>\n",
       "      <td>1</td>\n",
       "    </tr>\n",
       "    <tr>\n",
       "      <th>2001-01-01</th>\n",
       "      <td>01/01/2001 12:00:00 AM</td>\n",
       "      <td>2676160</td>\n",
       "      <td>SEX OFFENSE</td>\n",
       "      <td>CRIMINAL SEXUAL ABUSE</td>\n",
       "      <td>RESIDENCE</td>\n",
       "      <td>False</td>\n",
       "      <td>False</td>\n",
       "      <td>921</td>\n",
       "      <td>9.0</td>\n",
       "      <td>2001</td>\n",
       "      <td>1</td>\n",
       "    </tr>\n",
       "    <tr>\n",
       "      <th>2001-01-01</th>\n",
       "      <td>01/01/2001 12:00:00 AM</td>\n",
       "      <td>9755209</td>\n",
       "      <td>SEX OFFENSE</td>\n",
       "      <td>AGG CRIMINAL SEXUAL ABUSE</td>\n",
       "      <td>CHURCH/SYNAGOGUE/PLACE OF WORSHIP</td>\n",
       "      <td>False</td>\n",
       "      <td>False</td>\n",
       "      <td>1022</td>\n",
       "      <td>10.0</td>\n",
       "      <td>2001</td>\n",
       "      <td>1</td>\n",
       "    </tr>\n",
       "  </tbody>\n",
       "</table>\n",
       "</div>"
      ],
      "text/plain": [
       "                              Date       ID Primary Type  \\\n",
       "Datetime                                                   \n",
       "2001-01-01  01/01/2001 12:00:00 AM  2280620        THEFT   \n",
       "2001-01-01  01/01/2001 12:00:00 AM  2676160  SEX OFFENSE   \n",
       "2001-01-01  01/01/2001 12:00:00 AM  9755209  SEX OFFENSE   \n",
       "\n",
       "                              Description               Location Description  \\\n",
       "Datetime                                                                       \n",
       "2001-01-01  FINANCIAL ID THEFT: OVER $300                          RESIDENCE   \n",
       "2001-01-01          CRIMINAL SEXUAL ABUSE                          RESIDENCE   \n",
       "2001-01-01      AGG CRIMINAL SEXUAL ABUSE  CHURCH/SYNAGOGUE/PLACE OF WORSHIP   \n",
       "\n",
       "            Arrest  Domestic  Beat  District  Year  Month  \n",
       "Datetime                                                   \n",
       "2001-01-01   False     False   915       9.0  2001      1  \n",
       "2001-01-01   False     False   921       9.0  2001      1  \n",
       "2001-01-01   False     False  1022      10.0  2001      1  "
      ]
     },
     "execution_count": 46,
     "metadata": {},
     "output_type": "execute_result"
    }
   ],
   "source": [
    "ts['Year'] = ts.index.year\n",
    "ts.head(3)"
   ]
  },
  {
   "cell_type": "code",
   "execution_count": 48,
   "id": "fe448e5b-ee44-40fd-b8cd-432d1b66ae08",
   "metadata": {
    "scrolled": true
   },
   "outputs": [
    {
     "ename": "MemoryError",
     "evalue": "Unable to allocate 471. MiB for an array with shape (4, 15426218) and data type int64",
     "output_type": "error",
     "traceback": [
      "\u001b[1;31m---------------------------------------------------------------------------\u001b[0m",
      "\u001b[1;31mMemoryError\u001b[0m                               Traceback (most recent call last)",
      "Cell \u001b[1;32mIn[48], line 3\u001b[0m\n\u001b[0;32m      1\u001b[0m \u001b[38;5;66;03m#Slice columns for this analysis\u001b[39;00m\n\u001b[0;32m      2\u001b[0m cols \u001b[38;5;241m=\u001b[39m [\u001b[38;5;124m'\u001b[39m\u001b[38;5;124mPrimary Type\u001b[39m\u001b[38;5;124m'\u001b[39m, \u001b[38;5;124m'\u001b[39m\u001b[38;5;124mYear\u001b[39m\u001b[38;5;124m'\u001b[39m]\n\u001b[1;32m----> 3\u001b[0m temp \u001b[38;5;241m=\u001b[39m \u001b[43mts\u001b[49m\u001b[43m[\u001b[49m\u001b[43mcols\u001b[49m\u001b[43m]\u001b[49m\n\u001b[0;32m      4\u001b[0m temp\u001b[38;5;241m.\u001b[39minfo()\n",
      "File \u001b[1;32m~\\anaconda3\\envs\\dojo-env\\lib\\site-packages\\pandas\\core\\frame.py:3819\u001b[0m, in \u001b[0;36mDataFrame.__getitem__\u001b[1;34m(self, key)\u001b[0m\n\u001b[0;32m   3816\u001b[0m \u001b[38;5;28;01mif\u001b[39;00m \u001b[38;5;28mgetattr\u001b[39m(indexer, \u001b[38;5;124m\"\u001b[39m\u001b[38;5;124mdtype\u001b[39m\u001b[38;5;124m\"\u001b[39m, \u001b[38;5;28;01mNone\u001b[39;00m) \u001b[38;5;241m==\u001b[39m \u001b[38;5;28mbool\u001b[39m:\n\u001b[0;32m   3817\u001b[0m     indexer \u001b[38;5;241m=\u001b[39m np\u001b[38;5;241m.\u001b[39mwhere(indexer)[\u001b[38;5;241m0\u001b[39m]\n\u001b[1;32m-> 3819\u001b[0m data \u001b[38;5;241m=\u001b[39m \u001b[38;5;28;43mself\u001b[39;49m\u001b[38;5;241;43m.\u001b[39;49m\u001b[43m_take_with_is_copy\u001b[49m\u001b[43m(\u001b[49m\u001b[43mindexer\u001b[49m\u001b[43m,\u001b[49m\u001b[43m \u001b[49m\u001b[43maxis\u001b[49m\u001b[38;5;241;43m=\u001b[39;49m\u001b[38;5;241;43m1\u001b[39;49m\u001b[43m)\u001b[49m\n\u001b[0;32m   3821\u001b[0m \u001b[38;5;28;01mif\u001b[39;00m is_single_key:\n\u001b[0;32m   3822\u001b[0m     \u001b[38;5;66;03m# What does looking for a single key in a non-unique index return?\u001b[39;00m\n\u001b[0;32m   3823\u001b[0m     \u001b[38;5;66;03m# The behavior is inconsistent. It returns a Series, except when\u001b[39;00m\n\u001b[0;32m   3824\u001b[0m     \u001b[38;5;66;03m# - the key itself is repeated (test on data.shape, #9519), or\u001b[39;00m\n\u001b[0;32m   3825\u001b[0m     \u001b[38;5;66;03m# - we have a MultiIndex on columns (test on self.columns, #21309)\u001b[39;00m\n\u001b[0;32m   3826\u001b[0m     \u001b[38;5;28;01mif\u001b[39;00m data\u001b[38;5;241m.\u001b[39mshape[\u001b[38;5;241m1\u001b[39m] \u001b[38;5;241m==\u001b[39m \u001b[38;5;241m1\u001b[39m \u001b[38;5;129;01mand\u001b[39;00m \u001b[38;5;129;01mnot\u001b[39;00m \u001b[38;5;28misinstance\u001b[39m(\u001b[38;5;28mself\u001b[39m\u001b[38;5;241m.\u001b[39mcolumns, MultiIndex):\n\u001b[0;32m   3827\u001b[0m         \u001b[38;5;66;03m# GH#26490 using data[key] can cause RecursionError\u001b[39;00m\n",
      "File \u001b[1;32m~\\anaconda3\\envs\\dojo-env\\lib\\site-packages\\pandas\\core\\generic.py:3902\u001b[0m, in \u001b[0;36mNDFrame._take_with_is_copy\u001b[1;34m(self, indices, axis)\u001b[0m\n\u001b[0;32m   3894\u001b[0m \u001b[38;5;28;01mdef\u001b[39;00m \u001b[38;5;21m_take_with_is_copy\u001b[39m(\u001b[38;5;28mself\u001b[39m: NDFrameT, indices, axis\u001b[38;5;241m=\u001b[39m\u001b[38;5;241m0\u001b[39m) \u001b[38;5;241m-\u001b[39m\u001b[38;5;241m>\u001b[39m NDFrameT:\n\u001b[0;32m   3895\u001b[0m \u001b[38;5;250m    \u001b[39m\u001b[38;5;124;03m\"\"\"\u001b[39;00m\n\u001b[0;32m   3896\u001b[0m \u001b[38;5;124;03m    Internal version of the `take` method that sets the `_is_copy`\u001b[39;00m\n\u001b[0;32m   3897\u001b[0m \u001b[38;5;124;03m    attribute to keep track of the parent dataframe (using in indexing\u001b[39;00m\n\u001b[1;32m   (...)\u001b[0m\n\u001b[0;32m   3900\u001b[0m \u001b[38;5;124;03m    See the docstring of `take` for full explanation of the parameters.\u001b[39;00m\n\u001b[0;32m   3901\u001b[0m \u001b[38;5;124;03m    \"\"\"\u001b[39;00m\n\u001b[1;32m-> 3902\u001b[0m     result \u001b[38;5;241m=\u001b[39m \u001b[38;5;28;43mself\u001b[39;49m\u001b[38;5;241;43m.\u001b[39;49m\u001b[43m_take\u001b[49m\u001b[43m(\u001b[49m\u001b[43mindices\u001b[49m\u001b[38;5;241;43m=\u001b[39;49m\u001b[43mindices\u001b[49m\u001b[43m,\u001b[49m\u001b[43m \u001b[49m\u001b[43maxis\u001b[49m\u001b[38;5;241;43m=\u001b[39;49m\u001b[43maxis\u001b[49m\u001b[43m)\u001b[49m\n\u001b[0;32m   3903\u001b[0m     \u001b[38;5;66;03m# Maybe set copy if we didn't actually change the index.\u001b[39;00m\n\u001b[0;32m   3904\u001b[0m     \u001b[38;5;28;01mif\u001b[39;00m \u001b[38;5;129;01mnot\u001b[39;00m result\u001b[38;5;241m.\u001b[39m_get_axis(axis)\u001b[38;5;241m.\u001b[39mequals(\u001b[38;5;28mself\u001b[39m\u001b[38;5;241m.\u001b[39m_get_axis(axis)):\n",
      "File \u001b[1;32m~\\anaconda3\\envs\\dojo-env\\lib\\site-packages\\pandas\\core\\generic.py:3884\u001b[0m, in \u001b[0;36mNDFrame._take\u001b[1;34m(self, indices, axis, convert_indices)\u001b[0m\n\u001b[0;32m   3873\u001b[0m \u001b[38;5;28;01mdef\u001b[39;00m \u001b[38;5;21m_take\u001b[39m(\n\u001b[0;32m   3874\u001b[0m     \u001b[38;5;28mself\u001b[39m: NDFrameT,\n\u001b[0;32m   3875\u001b[0m     indices,\n\u001b[0;32m   3876\u001b[0m     axis\u001b[38;5;241m=\u001b[39m\u001b[38;5;241m0\u001b[39m,\n\u001b[0;32m   3877\u001b[0m     convert_indices: bool_t \u001b[38;5;241m=\u001b[39m \u001b[38;5;28;01mTrue\u001b[39;00m,\n\u001b[0;32m   3878\u001b[0m ) \u001b[38;5;241m-\u001b[39m\u001b[38;5;241m>\u001b[39m NDFrameT:\n\u001b[0;32m   3879\u001b[0m \u001b[38;5;250m    \u001b[39m\u001b[38;5;124;03m\"\"\"\u001b[39;00m\n\u001b[0;32m   3880\u001b[0m \u001b[38;5;124;03m    Internal version of the `take` allowing specification of additional args.\u001b[39;00m\n\u001b[0;32m   3881\u001b[0m \n\u001b[0;32m   3882\u001b[0m \u001b[38;5;124;03m    See the docstring of `take` for full explanation of the parameters.\u001b[39;00m\n\u001b[0;32m   3883\u001b[0m \u001b[38;5;124;03m    \"\"\"\u001b[39;00m\n\u001b[1;32m-> 3884\u001b[0m     \u001b[38;5;28;43mself\u001b[39;49m\u001b[38;5;241;43m.\u001b[39;49m\u001b[43m_consolidate_inplace\u001b[49m\u001b[43m(\u001b[49m\u001b[43m)\u001b[49m\n\u001b[0;32m   3886\u001b[0m     new_data \u001b[38;5;241m=\u001b[39m \u001b[38;5;28mself\u001b[39m\u001b[38;5;241m.\u001b[39m_mgr\u001b[38;5;241m.\u001b[39mtake(\n\u001b[0;32m   3887\u001b[0m         indices,\n\u001b[0;32m   3888\u001b[0m         axis\u001b[38;5;241m=\u001b[39m\u001b[38;5;28mself\u001b[39m\u001b[38;5;241m.\u001b[39m_get_block_manager_axis(axis),\n\u001b[0;32m   3889\u001b[0m         verify\u001b[38;5;241m=\u001b[39m\u001b[38;5;28;01mTrue\u001b[39;00m,\n\u001b[0;32m   3890\u001b[0m         convert_indices\u001b[38;5;241m=\u001b[39mconvert_indices,\n\u001b[0;32m   3891\u001b[0m     )\n\u001b[0;32m   3892\u001b[0m     \u001b[38;5;28;01mreturn\u001b[39;00m \u001b[38;5;28mself\u001b[39m\u001b[38;5;241m.\u001b[39m_constructor(new_data)\u001b[38;5;241m.\u001b[39m__finalize__(\u001b[38;5;28mself\u001b[39m, method\u001b[38;5;241m=\u001b[39m\u001b[38;5;124m\"\u001b[39m\u001b[38;5;124mtake\u001b[39m\u001b[38;5;124m\"\u001b[39m)\n",
      "File \u001b[1;32m~\\anaconda3\\envs\\dojo-env\\lib\\site-packages\\pandas\\core\\generic.py:5980\u001b[0m, in \u001b[0;36mNDFrame._consolidate_inplace\u001b[1;34m(self)\u001b[0m\n\u001b[0;32m   5977\u001b[0m \u001b[38;5;28;01mdef\u001b[39;00m \u001b[38;5;21mf\u001b[39m():\n\u001b[0;32m   5978\u001b[0m     \u001b[38;5;28mself\u001b[39m\u001b[38;5;241m.\u001b[39m_mgr \u001b[38;5;241m=\u001b[39m \u001b[38;5;28mself\u001b[39m\u001b[38;5;241m.\u001b[39m_mgr\u001b[38;5;241m.\u001b[39mconsolidate()\n\u001b[1;32m-> 5980\u001b[0m \u001b[38;5;28;43mself\u001b[39;49m\u001b[38;5;241;43m.\u001b[39;49m\u001b[43m_protect_consolidate\u001b[49m\u001b[43m(\u001b[49m\u001b[43mf\u001b[49m\u001b[43m)\u001b[49m\n",
      "File \u001b[1;32m~\\anaconda3\\envs\\dojo-env\\lib\\site-packages\\pandas\\core\\generic.py:5968\u001b[0m, in \u001b[0;36mNDFrame._protect_consolidate\u001b[1;34m(self, f)\u001b[0m\n\u001b[0;32m   5966\u001b[0m     \u001b[38;5;28;01mreturn\u001b[39;00m f()\n\u001b[0;32m   5967\u001b[0m blocks_before \u001b[38;5;241m=\u001b[39m \u001b[38;5;28mlen\u001b[39m(\u001b[38;5;28mself\u001b[39m\u001b[38;5;241m.\u001b[39m_mgr\u001b[38;5;241m.\u001b[39mblocks)\n\u001b[1;32m-> 5968\u001b[0m result \u001b[38;5;241m=\u001b[39m \u001b[43mf\u001b[49m\u001b[43m(\u001b[49m\u001b[43m)\u001b[49m\n\u001b[0;32m   5969\u001b[0m \u001b[38;5;28;01mif\u001b[39;00m \u001b[38;5;28mlen\u001b[39m(\u001b[38;5;28mself\u001b[39m\u001b[38;5;241m.\u001b[39m_mgr\u001b[38;5;241m.\u001b[39mblocks) \u001b[38;5;241m!=\u001b[39m blocks_before:\n\u001b[0;32m   5970\u001b[0m     \u001b[38;5;28mself\u001b[39m\u001b[38;5;241m.\u001b[39m_clear_item_cache()\n",
      "File \u001b[1;32m~\\anaconda3\\envs\\dojo-env\\lib\\site-packages\\pandas\\core\\generic.py:5978\u001b[0m, in \u001b[0;36mNDFrame._consolidate_inplace.<locals>.f\u001b[1;34m()\u001b[0m\n\u001b[0;32m   5977\u001b[0m \u001b[38;5;28;01mdef\u001b[39;00m \u001b[38;5;21mf\u001b[39m():\n\u001b[1;32m-> 5978\u001b[0m     \u001b[38;5;28mself\u001b[39m\u001b[38;5;241m.\u001b[39m_mgr \u001b[38;5;241m=\u001b[39m \u001b[38;5;28;43mself\u001b[39;49m\u001b[38;5;241;43m.\u001b[39;49m\u001b[43m_mgr\u001b[49m\u001b[38;5;241;43m.\u001b[39;49m\u001b[43mconsolidate\u001b[49m\u001b[43m(\u001b[49m\u001b[43m)\u001b[49m\n",
      "File \u001b[1;32m~\\anaconda3\\envs\\dojo-env\\lib\\site-packages\\pandas\\core\\internals\\managers.py:686\u001b[0m, in \u001b[0;36mBaseBlockManager.consolidate\u001b[1;34m(self)\u001b[0m\n\u001b[0;32m    684\u001b[0m bm \u001b[38;5;241m=\u001b[39m \u001b[38;5;28mtype\u001b[39m(\u001b[38;5;28mself\u001b[39m)(\u001b[38;5;28mself\u001b[39m\u001b[38;5;241m.\u001b[39mblocks, \u001b[38;5;28mself\u001b[39m\u001b[38;5;241m.\u001b[39maxes, \u001b[38;5;28mself\u001b[39m\u001b[38;5;241m.\u001b[39mrefs, verify_integrity\u001b[38;5;241m=\u001b[39m\u001b[38;5;28;01mFalse\u001b[39;00m)\n\u001b[0;32m    685\u001b[0m bm\u001b[38;5;241m.\u001b[39m_is_consolidated \u001b[38;5;241m=\u001b[39m \u001b[38;5;28;01mFalse\u001b[39;00m\n\u001b[1;32m--> 686\u001b[0m \u001b[43mbm\u001b[49m\u001b[38;5;241;43m.\u001b[39;49m\u001b[43m_consolidate_inplace\u001b[49m\u001b[43m(\u001b[49m\u001b[43m)\u001b[49m\n\u001b[0;32m    687\u001b[0m \u001b[38;5;28;01mreturn\u001b[39;00m bm\n",
      "File \u001b[1;32m~\\anaconda3\\envs\\dojo-env\\lib\\site-packages\\pandas\\core\\internals\\managers.py:1871\u001b[0m, in \u001b[0;36mBlockManager._consolidate_inplace\u001b[1;34m(self)\u001b[0m\n\u001b[0;32m   1869\u001b[0m \u001b[38;5;28;01mif\u001b[39;00m \u001b[38;5;129;01mnot\u001b[39;00m \u001b[38;5;28mself\u001b[39m\u001b[38;5;241m.\u001b[39mis_consolidated():\n\u001b[0;32m   1870\u001b[0m     \u001b[38;5;28;01mif\u001b[39;00m \u001b[38;5;28mself\u001b[39m\u001b[38;5;241m.\u001b[39mrefs \u001b[38;5;129;01mis\u001b[39;00m \u001b[38;5;28;01mNone\u001b[39;00m:\n\u001b[1;32m-> 1871\u001b[0m         \u001b[38;5;28mself\u001b[39m\u001b[38;5;241m.\u001b[39mblocks \u001b[38;5;241m=\u001b[39m \u001b[43m_consolidate\u001b[49m\u001b[43m(\u001b[49m\u001b[38;5;28;43mself\u001b[39;49m\u001b[38;5;241;43m.\u001b[39;49m\u001b[43mblocks\u001b[49m\u001b[43m)\u001b[49m\n\u001b[0;32m   1872\u001b[0m     \u001b[38;5;28;01melse\u001b[39;00m:\n\u001b[0;32m   1873\u001b[0m         \u001b[38;5;28mself\u001b[39m\u001b[38;5;241m.\u001b[39mblocks, \u001b[38;5;28mself\u001b[39m\u001b[38;5;241m.\u001b[39mrefs \u001b[38;5;241m=\u001b[39m _consolidate_with_refs(\u001b[38;5;28mself\u001b[39m\u001b[38;5;241m.\u001b[39mblocks, \u001b[38;5;28mself\u001b[39m\u001b[38;5;241m.\u001b[39mrefs)\n",
      "File \u001b[1;32m~\\anaconda3\\envs\\dojo-env\\lib\\site-packages\\pandas\\core\\internals\\managers.py:2329\u001b[0m, in \u001b[0;36m_consolidate\u001b[1;34m(blocks)\u001b[0m\n\u001b[0;32m   2327\u001b[0m new_blocks: \u001b[38;5;28mlist\u001b[39m[Block] \u001b[38;5;241m=\u001b[39m []\n\u001b[0;32m   2328\u001b[0m \u001b[38;5;28;01mfor\u001b[39;00m (_can_consolidate, dtype), group_blocks \u001b[38;5;129;01min\u001b[39;00m grouper:\n\u001b[1;32m-> 2329\u001b[0m     merged_blocks, _ \u001b[38;5;241m=\u001b[39m \u001b[43m_merge_blocks\u001b[49m\u001b[43m(\u001b[49m\n\u001b[0;32m   2330\u001b[0m \u001b[43m        \u001b[49m\u001b[38;5;28;43mlist\u001b[39;49m\u001b[43m(\u001b[49m\u001b[43mgroup_blocks\u001b[49m\u001b[43m)\u001b[49m\u001b[43m,\u001b[49m\u001b[43m \u001b[49m\u001b[43mdtype\u001b[49m\u001b[38;5;241;43m=\u001b[39;49m\u001b[43mdtype\u001b[49m\u001b[43m,\u001b[49m\u001b[43m \u001b[49m\u001b[43mcan_consolidate\u001b[49m\u001b[38;5;241;43m=\u001b[39;49m\u001b[43m_can_consolidate\u001b[49m\n\u001b[0;32m   2331\u001b[0m \u001b[43m    \u001b[49m\u001b[43m)\u001b[49m\n\u001b[0;32m   2332\u001b[0m     new_blocks \u001b[38;5;241m=\u001b[39m extend_blocks(merged_blocks, new_blocks)\n\u001b[0;32m   2333\u001b[0m \u001b[38;5;28;01mreturn\u001b[39;00m \u001b[38;5;28mtuple\u001b[39m(new_blocks)\n",
      "File \u001b[1;32m~\\anaconda3\\envs\\dojo-env\\lib\\site-packages\\pandas\\core\\internals\\managers.py:2381\u001b[0m, in \u001b[0;36m_merge_blocks\u001b[1;34m(blocks, dtype, can_consolidate)\u001b[0m\n\u001b[0;32m   2374\u001b[0m new_values: ArrayLike\n\u001b[0;32m   2376\u001b[0m \u001b[38;5;28;01mif\u001b[39;00m \u001b[38;5;28misinstance\u001b[39m(blocks[\u001b[38;5;241m0\u001b[39m]\u001b[38;5;241m.\u001b[39mdtype, np\u001b[38;5;241m.\u001b[39mdtype):\n\u001b[0;32m   2377\u001b[0m     \u001b[38;5;66;03m# error: List comprehension has incompatible type List[Union[ndarray,\u001b[39;00m\n\u001b[0;32m   2378\u001b[0m     \u001b[38;5;66;03m# ExtensionArray]]; expected List[Union[complex, generic,\u001b[39;00m\n\u001b[0;32m   2379\u001b[0m     \u001b[38;5;66;03m# Sequence[Union[int, float, complex, str, bytes, generic]],\u001b[39;00m\n\u001b[0;32m   2380\u001b[0m     \u001b[38;5;66;03m# Sequence[Sequence[Any]], SupportsArray]]\u001b[39;00m\n\u001b[1;32m-> 2381\u001b[0m     new_values \u001b[38;5;241m=\u001b[39m \u001b[43mnp\u001b[49m\u001b[38;5;241;43m.\u001b[39;49m\u001b[43mvstack\u001b[49m\u001b[43m(\u001b[49m\u001b[43m[\u001b[49m\u001b[43mb\u001b[49m\u001b[38;5;241;43m.\u001b[39;49m\u001b[43mvalues\u001b[49m\u001b[43m \u001b[49m\u001b[38;5;28;43;01mfor\u001b[39;49;00m\u001b[43m \u001b[49m\u001b[43mb\u001b[49m\u001b[43m \u001b[49m\u001b[38;5;129;43;01min\u001b[39;49;00m\u001b[43m \u001b[49m\u001b[43mblocks\u001b[49m\u001b[43m]\u001b[49m\u001b[43m)\u001b[49m  \u001b[38;5;66;03m# type: ignore[misc]\u001b[39;00m\n\u001b[0;32m   2382\u001b[0m \u001b[38;5;28;01melse\u001b[39;00m:\n\u001b[0;32m   2383\u001b[0m     bvals \u001b[38;5;241m=\u001b[39m [blk\u001b[38;5;241m.\u001b[39mvalues \u001b[38;5;28;01mfor\u001b[39;00m blk \u001b[38;5;129;01min\u001b[39;00m blocks]\n",
      "File \u001b[1;32m<__array_function__ internals>:180\u001b[0m, in \u001b[0;36mvstack\u001b[1;34m(*args, **kwargs)\u001b[0m\n",
      "File \u001b[1;32m~\\anaconda3\\envs\\dojo-env\\lib\\site-packages\\numpy\\core\\shape_base.py:282\u001b[0m, in \u001b[0;36mvstack\u001b[1;34m(tup)\u001b[0m\n\u001b[0;32m    280\u001b[0m \u001b[38;5;28;01mif\u001b[39;00m \u001b[38;5;129;01mnot\u001b[39;00m \u001b[38;5;28misinstance\u001b[39m(arrs, \u001b[38;5;28mlist\u001b[39m):\n\u001b[0;32m    281\u001b[0m     arrs \u001b[38;5;241m=\u001b[39m [arrs]\n\u001b[1;32m--> 282\u001b[0m \u001b[38;5;28;01mreturn\u001b[39;00m \u001b[43m_nx\u001b[49m\u001b[38;5;241;43m.\u001b[39;49m\u001b[43mconcatenate\u001b[49m\u001b[43m(\u001b[49m\u001b[43marrs\u001b[49m\u001b[43m,\u001b[49m\u001b[43m \u001b[49m\u001b[38;5;241;43m0\u001b[39;49m\u001b[43m)\u001b[49m\n",
      "File \u001b[1;32m<__array_function__ internals>:180\u001b[0m, in \u001b[0;36mconcatenate\u001b[1;34m(*args, **kwargs)\u001b[0m\n",
      "\u001b[1;31mMemoryError\u001b[0m: Unable to allocate 471. MiB for an array with shape (4, 15426218) and data type int64"
     ]
    }
   ],
   "source": [
    "#Slice columns for this analysis\n",
    "cols = ['Primary Type', 'Year']\n",
    "temp = ts[cols]\n",
    "temp.info()"
   ]
  },
  {
   "cell_type": "code",
   "execution_count": null,
   "id": "b90217b9-88e3-4a5b-8428-bdc3a012eeac",
   "metadata": {
    "scrolled": true
   },
   "outputs": [],
   "source": [
    "temp.nunique()"
   ]
  },
  {
   "cell_type": "code",
   "execution_count": null,
   "id": "ce5ab1d5-dcd8-4dd9-8180-5364c4f855ef",
   "metadata": {},
   "outputs": [],
   "source": [
    "type_crime = temp['Primary Type'].value_counts().to_frame('Total # of Crimes')\n",
    "type_crime"
   ]
  },
  {
   "cell_type": "code",
   "execution_count": null,
   "id": "c078544a-1a25-4d96-b4be-4f832fd1d476",
   "metadata": {},
   "outputs": [],
   "source": [
    "#create a dictionary for just types of crime\n",
    "crime_dict = {}\n",
    "crime= 'THEFT'\n",
    "crime"
   ]
  },
  {
   "cell_type": "code",
   "execution_count": null,
   "id": "dfae0515-483b-42ef-a4bf-d7ccd4aad72e",
   "metadata": {},
   "outputs": [],
   "source": [
    "#Save a temporary df for just rows of crime\n",
    "tempdf = temp.loc[temp['Primary Type'] == crime]\n",
    "tempdf.head(3)"
   ]
  },
  {
   "cell_type": "code",
   "execution_count": null,
   "id": "e9b7663d-2d3d-4c8e-933d-f2e4786a1113",
   "metadata": {},
   "outputs": [],
   "source": [
    "year_sample=tempdf.resample(\"Y\").size()\n",
    "year_sample.head()"
   ]
  },
  {
   "cell_type": "code",
   "execution_count": null,
   "id": "7cf40966-efa9-4825-beb0-520ac9a16e24",
   "metadata": {},
   "outputs": [],
   "source": [
    "crime_dict[crime] = year_sample.copy()\n",
    "crime_dict.keys()"
   ]
  },
  {
   "cell_type": "code",
   "execution_count": null,
   "id": "c232bb4f-b2a1-4fc9-9e51-9c561c3fca05",
   "metadata": {},
   "outputs": [],
   "source": [
    "crime_dict['THEFT']"
   ]
  },
  {
   "cell_type": "code",
   "execution_count": null,
   "id": "e838c597-4697-4d6c-ab2d-7bb7e2ba19e8",
   "metadata": {},
   "outputs": [],
   "source": [
    "#Create a for loop\n",
    "crime_list = dff['Primary Type'].unique()\n",
    "crime_list"
   ]
  },
  {
   "cell_type": "code",
   "execution_count": null,
   "id": "2aa401a3-431d-4f3b-b031-33f90a81802a",
   "metadata": {},
   "outputs": [],
   "source": [
    "for crime in crime_list:\n",
    "    tempdf = temp.loc[temp['Primary Type'] == crime].copy()\n",
    "    year_sample=tempdf.resample(\"Y\").size()\n",
    "    crime_dict[crime] = year_sample.copy()\n",
    "crime_dict.keys()"
   ]
  },
  {
   "cell_type": "code",
   "execution_count": null,
   "id": "34703e9e-305a-4c1d-b8f3-dd914b154b22",
   "metadata": {},
   "outputs": [],
   "source": [
    "#Convert dictionary into datafrome\n",
    "crimesdf = pd.DataFrame(crime_dict)\n",
    "crimesdf"
   ]
  },
  {
   "cell_type": "code",
   "execution_count": null,
   "id": "ff891ef9-f9c9-483c-83cb-34418274fd3b",
   "metadata": {},
   "outputs": [],
   "source": [
    "#Plot the types of crimes by year\n",
    "fig=ax.get_figure()\n",
    "fig, axes = plt.subplots(12, 3, figsize=(10, 20), constrained_layout=True, sharex=True, sharey=True)\n",
    "crimesdf.plot(subplots=True, ax=axes, legend=None)\n",
    "#For loop to label individual plots\n",
    "for gn, ax in enumerate(axes.flat):\n",
    "    column_name = list(crime_dict.keys())[gn]\n",
    "    y = crimesdf[column_name]\n",
    "    ax.bar(crimesdf.index, y)  \n",
    "    ax.set_title(column_name, fontsize='small', loc='left')\n",
    "#Set title/labels\n",
    "fig.suptitle('Types of Crimes Between 2001 and 2022', x=0.5, y=1.02)\n",
    "fig.supxlabel('Year')\n",
    "fig.supylabel('Number of Crimes')\n",
    "#Set ticklables\n",
    "for ax in axes.flat:\n",
    "    ax.set_xticks(ax.get_xticks())\n",
    "    ax.set_xticklabels(ax.get_xticklabels(), fontsize='small')\n",
    "\n",
    "plt.show();\n",
    "\n",
    "#adapted from source: matplotlib.org/stable/gallery/subplots_axes_and_figures/index.html"
   ]
  },
  {
   "cell_type": "markdown",
   "id": "40f0a367-692e-47c7-8d0d-9e5f5983e20a",
   "metadata": {},
   "source": [
    "### Are there any individual crimes that are doing the opposite?\n",
    "      * Over all there is a decrease in the number of crimes\n",
    "      * There are no crimes that appear to be doing the opposite. There are several crimes don't have enough data to make any assumptions from."
   ]
  },
  {
   "cell_type": "markdown",
   "id": "e8451de8-3e5a-4eaf-ab68-f3e492c4c9b7",
   "metadata": {},
   "source": [
    "## Senario 2:  Comparing Holidays"
   ]
  },
  {
   "cell_type": "code",
   "execution_count": null,
   "id": "9ff7c026-83c8-4f5b-a7fa-d6e95aeeb89b",
   "metadata": {
    "scrolled": true
   },
   "outputs": [],
   "source": [
    "#copy df\n",
    "hdf = df.copy()\n",
    "hdf.head(2)"
   ]
  },
  {
   "cell_type": "code",
   "execution_count": null,
   "id": "a254300e-1fd6-4053-a8c9-d00c83b962f8",
   "metadata": {
    "scrolled": true
   },
   "outputs": [],
   "source": [
    "hdf.columns"
   ]
  },
  {
   "cell_type": "code",
   "execution_count": null,
   "id": "253acaf4-0a2a-4dd0-a030-96ac2dc4bf58",
   "metadata": {},
   "outputs": [],
   "source": [
    "#Set format for datetime and change dtype\n",
    "date_format = \"%m/%d/%Y %H:%M:%S %p\"\n",
    "\n",
    "hdf['Datetime'] = pd.to_datetime(df['Date'], format=date_format)\n",
    "hdf = hdf.sort_values('Datetime')\n",
    "hdf.head(2)"
   ]
  },
  {
   "cell_type": "markdown",
   "id": "a592c6e9-66e4-48e2-84ea-c78c36c73933",
   "metadata": {},
   "source": [
    "#### What are the top 3 holidays with the largest number of crimes?"
   ]
  },
  {
   "cell_type": "code",
   "execution_count": null,
   "id": "32363cad-e917-4b6e-8d92-248baac29c8f",
   "metadata": {
    "scrolled": true
   },
   "outputs": [],
   "source": [
    "keep_cols=[\"Datetime\", \"Primary Type\"]\n",
    "hdf=hdf[keep_cols]\n",
    "hdf.info()"
   ]
  },
  {
   "cell_type": "code",
   "execution_count": null,
   "id": "f1f8fe94-5b2e-4119-9558-f6c7dc8ce96e",
   "metadata": {},
   "outputs": [],
   "source": [
    "#make a date range that covers the full dataset\n",
    "all_days = pd.date_range(hdf['Datetime'].min(), hdf['Datetime'].max())\n",
    "all_days"
   ]
  },
  {
   "cell_type": "code",
   "execution_count": null,
   "id": "3fd4cfda-ff4d-4522-924c-1a557782554e",
   "metadata": {},
   "outputs": [],
   "source": [
    "#create an instance of the US only holidays\n",
    "us_holidays = country_holidays('US')\n"
   ]
  },
  {
   "cell_type": "code",
   "execution_count": null,
   "id": "559ba51f-6e5f-46e0-9854-6893e1b46fd9",
   "metadata": {},
   "outputs": [],
   "source": [
    "#Get a list of all holidays\n",
    "holidays = [us_holidays.get(day) for day in all_days]\n",
    "holidays[:5]\n",
    "            "
   ]
  },
  {
   "cell_type": "code",
   "execution_count": null,
   "id": "8264bf7f-6f88-4f89-a396-38094405a65f",
   "metadata": {},
   "outputs": [],
   "source": [
    "hdf['US Holiday'] = [us_holidays.get(day) for day in hdf['Datetime']]\n",
    "hdf.head(2)\n",
    "\n",
    "## Save a binary is holiday feature\n",
    "#hdf['Is_Holiday'] = hdf['US Holiday'].notna()\n",
    "#hdf['Is_Holiday'].value_counts()"
   ]
  },
  {
   "cell_type": "code",
   "execution_count": null,
   "id": "97dd8c38-a77d-43a9-8d18-1eaa8dea396c",
   "metadata": {},
   "outputs": [],
   "source": []
  },
  {
   "cell_type": "code",
   "execution_count": null,
   "id": "cc1d9831-d1d4-422c-9509-2f53546aee55",
   "metadata": {},
   "outputs": [],
   "source": [
    "top_holidays = [hdf['US Holiday'].value_counts()]\n",
    "top_holidays"
   ]
  },
  {
   "cell_type": "code",
   "execution_count": null,
   "id": "14d5cfd0-56e9-4585-bd2c-b16f4befee16",
   "metadata": {},
   "outputs": [],
   "source": [
    "\n"
   ]
  },
  {
   "cell_type": "code",
   "execution_count": null,
   "id": "6218a89a-dbe5-428e-915c-5c2458de5f46",
   "metadata": {
    "scrolled": true
   },
   "outputs": [],
   "source": [
    "#Create list with crimes by holiday\n",
    "crimes_by_holiday = hdf.groupby(\"US Holiday\")['Primary Type'].value_counts()\n",
    "crimes_by_holiday\n"
   ]
  },
  {
   "cell_type": "code",
   "execution_count": null,
   "id": "d57e4ccf-3feb-42ab-9ff7-d95a93af4eba",
   "metadata": {
    "scrolled": true
   },
   "outputs": [],
   "source": [
    "\n"
   ]
  },
  {
   "cell_type": "code",
   "execution_count": null,
   "id": "e7d3fe0d-f3d1-44df-9e90-49fe47f290bc",
   "metadata": {},
   "outputs": [],
   "source": [
    "crimes_by_holiday = hdf.groupby([\"US Holiday\", \"Primary Type\"]).size().unstack(fill_value=0)\n",
    "\n",
    "# Plotting\n",
    "plt.figure(figsize=(14, 8))\n",
    "ax=crimes_by_holiday.plot(kind='bar', stacked=True, figsize=(14,8))\n",
    "\n",
    "ax.set_title('Crime Counts Over Time by US Holidays')\n",
    "ax.set_xlabel('US Holiday')\n",
    "ax.set_ylabel('Total Number of Crimes')\n",
    "plt.legend(title='US Holiday', bbox_to_anchor=(1,1), loc='best')\n",
    "###Source: matplolib.org/3.1.1/spi/_as_gen/matplolib.pyplot.legend.html\n",
    "plt.show();"
   ]
  },
  {
   "cell_type": "markdown",
   "id": "e0e72417-6f6e-46fe-b0cc-5b65005278d0",
   "metadata": {},
   "source": [
    "### The top 3 holidays with the largest number of crimes are:\n",
    "    *  New Years Day\n",
    "    *  Independace Day\n",
    "    *  Labor Day"
   ]
  },
  {
   "cell_type": "markdown",
   "id": "4cfe0d24-f7fb-4029-a6a2-6d55ec480dfd",
   "metadata": {},
   "source": [
    "##### What are the most crimes on those days"
   ]
  },
  {
   "cell_type": "code",
   "execution_count": null,
   "id": "661958d9-682e-4764-8df9-b04d9d845b76",
   "metadata": {},
   "outputs": [],
   "source": [
    "hdf.head(2)"
   ]
  },
  {
   "cell_type": "code",
   "execution_count": null,
   "id": "1d429bed-d777-4737-9d91-77db20eef4d3",
   "metadata": {
    "scrolled": true
   },
   "outputs": [],
   "source": [
    "top_holidays = [\"New Year's Day\", \"Independence Day\",\"Labor Day\"]\n",
    "top_crimes = hdf[hdf['US Holiday'].apply(lambda h: h in top_holidays)]\n",
    "top_crimes.info()\n",
    "### Adapted from: alexmalins.com/blog/using-pandas-isin-method-with-pyton-on-holidays-package/"
   ]
  },
  {
   "cell_type": "code",
   "execution_count": null,
   "id": "6b038d2f-e2b4-4bbb-9d50-d84f5de7626b",
   "metadata": {},
   "outputs": [],
   "source": [
    "top_crimes['US Holiday'].nunique()"
   ]
  },
  {
   "cell_type": "code",
   "execution_count": null,
   "id": "ef536c0b-aea7-46c2-8322-c40bce49ef07",
   "metadata": {
    "scrolled": true
   },
   "outputs": [],
   "source": [
    "top_crimes['Primary Type'].nunique()"
   ]
  },
  {
   "cell_type": "code",
   "execution_count": null,
   "id": "1a8abcf7-882b-4631-9f2a-38ffe2118eb0",
   "metadata": {
    "scrolled": true
   },
   "outputs": [],
   "source": [
    "mostcrimes=top_crimes.groupby([\"US Holiday\", \"Primary Type\"]).filter(lambda c:len(c)>1500)"
   ]
  },
  {
   "cell_type": "code",
   "execution_count": null,
   "id": "af3102e7-2973-4e73-9573-54abb2c7f5e2",
   "metadata": {
    "scrolled": true
   },
   "outputs": [],
   "source": [
    "holiday_crimes = mostcrimes.groupby([\"US Holiday\", \"Primary Type\"]).size().unstack(fill_value=0)\n",
    "\n",
    "# Plotting\n",
    "plt.figure(figsize=(14, 8))\n",
    "ax=holiday_crimes.plot(kind='bar', stacked=True, figsize=(14,8))\n",
    "ax.set_title(\"Crimes Committed on New Year's Day, Independence Day, and Labor Day\", fontsize=20)\n",
    "ax.set_xlabel('Holidays', fontsize=15)\n",
    "ax.set_ylabel('Total Crimes', fontsize=15)\n",
    "plt.legend(title='Crimes', bbox_to_anchor=(1,1), loc='best')\n",
    "###Source: matplolib.org/3.1.1/spi/_as_gen/matplolib.pyplot.legend.html\n",
    "\n",
    "#Annotate each bar with the total count\n",
    "for p in ax.patches:\n",
    "    width, height = p.get_width(), p.get_height()\n",
    "    x,y = p.get_xy()\n",
    "    ax.annotate(f'{height}', (x+width/2, y+height/2), ha='center', fontsize=13, color='black')\n",
    "###Source: https://stackoverflow.com/questions/50160788/annotate-stacked-barplot-matplotlib-and-pandas\n",
    "plt.show();"
   ]
  },
  {
   "cell_type": "markdown",
   "id": "b3b4ed03-799e-4804-a3ec-f27f03abb0da",
   "metadata": {},
   "source": [
    "#### For each of the top 3 holidays with the most crime, \n",
    "#### What are the top 5 most common crimes on that holiday?"
   ]
  },
  {
   "cell_type": "markdown",
   "id": "bbd18821-9657-4437-ae06-83c5446bce2f",
   "metadata": {},
   "source": [
    "<style type=\"text/css\">\r\n",
    ".tg  {border-collapse:collapse;border-spacing:0;}\r\n",
    ".tg td{border-color:black;border-style:solid;border-width:1px;font-family:Arial, sans-serif;font-size:14px;\r\n",
    "  overflow:hidden;padding:10px 5px;word-break:normal;}\r\n",
    ".tg th{border-color:black;border-style:solid;border-width:1px;font-family:Arial, sans-serif;font-size:14px;\r\n",
    "  font-weight:normal;overflow:hidden;padding:10px 5px;word-break:normal;}\r\n",
    ".tg .tg-9wq8{border-color:inherit;text-align:center;vertical-align:middle}\r\n",
    ".tg .tg-baqh{text-align:center;vertical-align:top}\r\n",
    ".tg .tg-8zwo{font-style:italic;text-align:left;vertical-align:top}\r\n",
    ".tg .tg-rvyq{border-color:inherit;font-style:italic;font-weight:bold;text-align:center;vertical-align:top}\r\n",
    ".tg .tg-0pky{border-color:inherit;text-align:left;vertical-align:top}\r\n",
    "</style>\r\n",
    "<table class=\"tg\">\r\n",
    "<thead>\r\n",
    "  <tr>\r\n",
    "    <th class=\"tg-9wq8\" colspan=\"6\"><span style=\"font-weight:bold\">Top 5 Crimes Per Day</span></th>\r\n",
    "  </tr>\r\n",
    "</thead>\r\n",
    "<tbody>\r\n",
    "  <tr>\r\n",
    "    <td class=\"tg-baqh\"><span style=\"font-weight:bold\">By Holidays</span></td>\r\n",
    "    <td class=\"tg-8zwo\" colspan=\"5\">In order from most committed to least</td>\r\n",
    "  </tr>\r\n",
    "  <tr>\r\n",
    "    <td class=\"tg-rvyq\">New Year's Day</td>\r\n",
    "    <td class=\"tg-0pky\">Assault</td>\r\n",
    "    <td class=\"tg-0pky\">Battery</td>\r\n",
    "    <td class=\"tg-0pky\">Criminal Damage</td>\r\n",
    "    <td class=\"tg-0pky\">Deceptive Practice</td>\r\n",
    "    <td class=\"tg-0pky\">- Offense Involving Children <br> - Other Offence</td>\r\n",
    "  </tr>\r\n",
    "  <tr>\r\n",
    "    <td class=\"tg-rvyq\">Independence Day</td>\r\n",
    "    <td class=\"tg-0pky\">Battery</td>\r\n",
    "    <td class=\"tg-0pky\">Assault</td>\r\n",
    "    <td class=\"tg-0pky\">Criminal Damage</td>\r\n",
    "    <td class=\"tg-0pky\">Theft</td>\r\n",
    "    <td class=\"tg-0pky\">Narcotics</td>\r\n",
    "  </tr>\r\n",
    "  <tr>\r\n",
    "    <td class=\"tg-rvyq\">Labor Day</td>\r\n",
    "    <td class=\"tg-0pky\">Battery</td>\r\n",
    "    <td class=\"tg-0pky\">Assault</td>\r\n",
    "    <td class=\"tg-0pky\">Criminal Damage</td>\r\n",
    "    <td class=\"tg-0pky\">Narcotics</td>\r\n",
    "    <td class=\"tg-0pky\">Theft</td>\r\n",
    "  </tr>\r\n",
    "</tbody>\r\n",
    "</table>"
   ]
  },
  {
   "cell_type": "markdown",
   "id": "876ee1f0-ef6a-4a4f-9116-be23ee9ed139",
   "metadata": {},
   "source": [
    "## Senario 3:   Comparing Police Districts:"
   ]
  },
  {
   "cell_type": "markdown",
   "id": "373224af-fd03-4ce9-8b04-cd25074ed24f",
   "metadata": {},
   "source": []
  },
  {
   "cell_type": "code",
   "execution_count": null,
   "id": "1968693a-e827-44c0-8e01-ab5bf740c602",
   "metadata": {},
   "outputs": [],
   "source": [
    "#Create a df for this data set\n",
    "district = df.copy()\n",
    "district.head(2)"
   ]
  },
  {
   "cell_type": "code",
   "execution_count": null,
   "id": "1f8630da-fb18-4e00-b3d8-696a8781935f",
   "metadata": {
    "scrolled": true
   },
   "outputs": [],
   "source": [
    "#Set format for datetime and change dtype\n",
    "date_format = \"%m/%d/%Y %H:%M:%S %p\" \n",
    "\n",
    "district['Datetime'] = pd.to_datetime(district['Date'], format=date_format)\n",
    "district = district.sort_values('Datetime')\n",
    "district.head(2)"
   ]
  },
  {
   "cell_type": "code",
   "execution_count": null,
   "id": "7334ef44-9b1c-4f55-8d33-0905b7fd5664",
   "metadata": {},
   "outputs": [],
   "source": [
    "dist=district.copy()"
   ]
  },
  {
   "cell_type": "code",
   "execution_count": null,
   "id": "53446566-d581-4bf6-aff4-9c797cafa303",
   "metadata": {},
   "outputs": [],
   "source": [
    "dist['Year'] = dist['Datetime'].dt.year"
   ]
  },
  {
   "cell_type": "code",
   "execution_count": null,
   "id": "4b9703ac-33db-4b05-92cc-b79b521883ff",
   "metadata": {},
   "outputs": [],
   "source": [
    "dist['Year'].value_counts()"
   ]
  },
  {
   "cell_type": "code",
   "execution_count": null,
   "id": "ee8ddc67-e049-4ba2-a9f1-8f856a4706fc",
   "metadata": {},
   "outputs": [],
   "source": [
    "dist=dist[['ID', 'Year', 'District']]\n",
    "dist.info()"
   ]
  },
  {
   "cell_type": "code",
   "execution_count": null,
   "id": "edee5a0c-8db9-445b-925c-dbe5b4590f7e",
   "metadata": {},
   "outputs": [],
   "source": [
    "dist2022=dist.loc[(dist['Year']==2022)]\n",
    "dist2022.info()\n"
   ]
  },
  {
   "cell_type": "code",
   "execution_count": null,
   "id": "7d67c570-090d-48c1-a016-815deb7495fd",
   "metadata": {},
   "outputs": [],
   "source": [
    "crimes_by_dist=dist2022.groupby(['District']).size()\n",
    "crimes_by_dist.head(3)"
   ]
  },
  {
   "cell_type": "code",
   "execution_count": null,
   "id": "e5ed9ff2-a6c2-467c-aa75-3187dd55c9d9",
   "metadata": {},
   "outputs": [],
   "source": [
    "crimes_by_dist.plot(kind='bar');"
   ]
  },
  {
   "cell_type": "code",
   "execution_count": null,
   "id": "d7140095-fcf9-4365-acc7-bd208557fb20",
   "metadata": {
    "scrolled": true
   },
   "outputs": [],
   "source": [
    "# Plotting\n",
    "plt.figure(figsize=(12, 6),)\n",
    "ax=crimes_by_dist.plot(kind='bar', color='green')\n",
    "ax.set_title(\"Crimes Committed in 2022 by District\", fontsize=20)\n",
    "ax.set_xlabel('District', fontsize=15)\n",
    "ax.set_ylabel('Total # of Crimes', fontsize=15)\n",
    "\n",
    "#Annotate each bar with the total count\n",
    "for p in ax.patches:\n",
    "   width, height = p.get_width(), p.get_height()\n",
    "   x,y = p.get_xy()\n",
    "   ax.annotate(f'{height}', (x+width, y+height), fontsize=10, color='black')\n",
    "###Source: https://stackoverflow.com/questions/50160788/annotate-stacked-barplot-matplotlib-and-pandas\n",
    "plt.show();"
   ]
  },
  {
   "cell_type": "markdown",
   "id": "38ac3881-65cf-4da1-b91e-b1c23aeafaf6",
   "metadata": {},
   "source": [
    "### Which district had the most crimes in 2022?"
   ]
  },
  {
   "cell_type": "markdown",
   "id": "26e47c0a-110d-423b-9b7d-d72070f5c443",
   "metadata": {},
   "source": [
    "***District 8 had the most crimes with 14,805 crimes being committed in 2022***"
   ]
  },
  {
   "cell_type": "markdown",
   "id": "77e732c1-4c47-4db5-ab92-8a19d72935f6",
   "metadata": {},
   "source": [
    "### Which had the least?"
   ]
  },
  {
   "cell_type": "markdown",
   "id": "91d64b25-d785-4627-b967-4f7febdd3c4c",
   "metadata": {},
   "source": [
    "***District 31 had the least number of crimes with only 15 crimes being committed in 2022***"
   ]
  }
 ],
 "metadata": {
  "kernelspec": {
   "display_name": "Python (dojo-env)",
   "language": "python",
   "name": "dojo-env"
  },
  "language_info": {
   "codemirror_mode": {
    "name": "ipython",
    "version": 3
   },
   "file_extension": ".py",
   "mimetype": "text/x-python",
   "name": "python",
   "nbconvert_exporter": "python",
   "pygments_lexer": "ipython3",
   "version": "3.10.13"
  },
  "widgets": {
   "application/vnd.jupyter.widget-state+json": {
    "state": {},
    "version_major": 2,
    "version_minor": 0
   }
  }
 },
 "nbformat": 4,
 "nbformat_minor": 5
}
